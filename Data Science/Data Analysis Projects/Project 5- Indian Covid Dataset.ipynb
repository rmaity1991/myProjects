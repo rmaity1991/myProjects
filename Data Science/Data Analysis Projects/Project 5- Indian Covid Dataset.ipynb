{
 "cells": [
  {
   "cell_type": "code",
   "execution_count": 2,
   "metadata": {},
   "outputs": [],
   "source": [
    "import pandas as pd\n",
    "import matplotlib.pyplot as plt\n",
    "import seaborn as sns"
   ]
  },
  {
   "cell_type": "code",
   "execution_count": 3,
   "metadata": {},
   "outputs": [
    {
     "name": "stdout",
     "output_type": "stream",
     "text": [
      "     sepallength  sepalwidth  petallength  petalwidth           class\n",
      "0            5.1         3.5          1.4         0.2     Iris-setosa\n",
      "1            4.9         3.0          1.4         0.2     Iris-setosa\n",
      "2            4.7         3.2          1.3         0.2     Iris-setosa\n",
      "3            4.6         3.1          1.5         0.2     Iris-setosa\n",
      "4            5.0         3.6          1.4         0.2     Iris-setosa\n",
      "..           ...         ...          ...         ...             ...\n",
      "145          6.7         3.0          5.2         2.3  Iris-virginica\n",
      "146          6.3         2.5          5.0         1.9  Iris-virginica\n",
      "147          6.5         3.0          5.2         2.0  Iris-virginica\n",
      "148          6.2         3.4          5.4         2.3  Iris-virginica\n",
      "149          5.9         3.0          5.1         1.8  Iris-virginica\n",
      "\n",
      "[150 rows x 5 columns]\n"
     ]
    }
   ],
   "source": [
    "master=pd.read_csv(\"iris.csv\")\n",
    "print(master)"
   ]
  },
  {
   "cell_type": "code",
   "execution_count": 7,
   "metadata": {},
   "outputs": [
    {
     "name": "stdout",
     "output_type": "stream",
     "text": [
      "['Iris-setosa' 'Iris-versicolor' 'Iris-virginica']\n"
     ]
    }
   ],
   "source": [
    "petal_class=master['class'].unique()\n",
    "print(petal_class)"
   ]
  },
  {
   "cell_type": "code",
   "execution_count": 15,
   "metadata": {},
   "outputs": [],
   "source": [
    "iris_setosa=master[master['class']==\"Iris-setosa\"]\n",
    "iris_versicolora=master[master['class']==\"Iris-versicolora\"]\n",
    "iris_virginica=master[master['class']==\"Iris-virginica\"]"
   ]
  },
  {
   "cell_type": "code",
   "execution_count": 16,
   "metadata": {},
   "outputs": [
    {
     "name": "stdout",
     "output_type": "stream",
     "text": [
      "    sepallength  sepalwidth  petallength  petalwidth        class\n",
      "0           5.1         3.5          1.4         0.2  Iris-setosa\n",
      "1           4.9         3.0          1.4         0.2  Iris-setosa\n",
      "2           4.7         3.2          1.3         0.2  Iris-setosa\n",
      "3           4.6         3.1          1.5         0.2  Iris-setosa\n",
      "4           5.0         3.6          1.4         0.2  Iris-setosa\n",
      "5           5.4         3.9          1.7         0.4  Iris-setosa\n",
      "6           4.6         3.4          1.4         0.3  Iris-setosa\n",
      "7           5.0         3.4          1.5         0.2  Iris-setosa\n",
      "8           4.4         2.9          1.4         0.2  Iris-setosa\n",
      "9           4.9         3.1          1.5         0.1  Iris-setosa\n",
      "10          5.4         3.7          1.5         0.2  Iris-setosa\n",
      "11          4.8         3.4          1.6         0.2  Iris-setosa\n",
      "12          4.8         3.0          1.4         0.1  Iris-setosa\n",
      "13          4.3         3.0          1.1         0.1  Iris-setosa\n",
      "14          5.8         4.0          1.2         0.2  Iris-setosa\n",
      "15          5.7         4.4          1.5         0.4  Iris-setosa\n",
      "16          5.4         3.9          1.3         0.4  Iris-setosa\n",
      "17          5.1         3.5          1.4         0.3  Iris-setosa\n",
      "18          5.7         3.8          1.7         0.3  Iris-setosa\n",
      "19          5.1         3.8          1.5         0.3  Iris-setosa\n",
      "20          5.4         3.4          1.7         0.2  Iris-setosa\n",
      "21          5.1         3.7          1.5         0.4  Iris-setosa\n",
      "22          4.6         3.6          1.0         0.2  Iris-setosa\n",
      "23          5.1         3.3          1.7         0.5  Iris-setosa\n",
      "24          4.8         3.4          1.9         0.2  Iris-setosa\n",
      "25          5.0         3.0          1.6         0.2  Iris-setosa\n",
      "26          5.0         3.4          1.6         0.4  Iris-setosa\n",
      "27          5.2         3.5          1.5         0.2  Iris-setosa\n",
      "28          5.2         3.4          1.4         0.2  Iris-setosa\n",
      "29          4.7         3.2          1.6         0.2  Iris-setosa\n",
      "30          4.8         3.1          1.6         0.2  Iris-setosa\n",
      "31          5.4         3.4          1.5         0.4  Iris-setosa\n",
      "32          5.2         4.1          1.5         0.1  Iris-setosa\n",
      "33          5.5         4.2          1.4         0.2  Iris-setosa\n",
      "34          4.9         3.1          1.5         0.1  Iris-setosa\n",
      "35          5.0         3.2          1.2         0.2  Iris-setosa\n",
      "36          5.5         3.5          1.3         0.2  Iris-setosa\n",
      "37          4.9         3.1          1.5         0.1  Iris-setosa\n",
      "38          4.4         3.0          1.3         0.2  Iris-setosa\n",
      "39          5.1         3.4          1.5         0.2  Iris-setosa\n",
      "40          5.0         3.5          1.3         0.3  Iris-setosa\n",
      "41          4.5         2.3          1.3         0.3  Iris-setosa\n",
      "42          4.4         3.2          1.3         0.2  Iris-setosa\n",
      "43          5.0         3.5          1.6         0.6  Iris-setosa\n",
      "44          5.1         3.8          1.9         0.4  Iris-setosa\n",
      "45          4.8         3.0          1.4         0.3  Iris-setosa\n",
      "46          5.1         3.8          1.6         0.2  Iris-setosa\n",
      "47          4.6         3.2          1.4         0.2  Iris-setosa\n",
      "48          5.3         3.7          1.5         0.2  Iris-setosa\n",
      "49          5.0         3.3          1.4         0.2  Iris-setosa\n"
     ]
    }
   ],
   "source": [
    "print(iris_setosa)"
   ]
  },
  {
   "cell_type": "code",
   "execution_count": 17,
   "metadata": {},
   "outputs": [
    {
     "name": "stdout",
     "output_type": "stream",
     "text": [
      "Empty DataFrame\n",
      "Columns: [sepallength, sepalwidth, petallength, petalwidth, class]\n",
      "Index: []\n"
     ]
    }
   ],
   "source": [
    "print(iris_versicolora)\n"
   ]
  },
  {
   "cell_type": "code",
   "execution_count": 18,
   "metadata": {},
   "outputs": [
    {
     "name": "stdout",
     "output_type": "stream",
     "text": [
      "     sepallength  sepalwidth  petallength  petalwidth           class\n",
      "100          6.3         3.3          6.0         2.5  Iris-virginica\n",
      "101          5.8         2.7          5.1         1.9  Iris-virginica\n",
      "102          7.1         3.0          5.9         2.1  Iris-virginica\n",
      "103          6.3         2.9          5.6         1.8  Iris-virginica\n",
      "104          6.5         3.0          5.8         2.2  Iris-virginica\n",
      "105          7.6         3.0          6.6         2.1  Iris-virginica\n",
      "106          4.9         2.5          4.5         1.7  Iris-virginica\n",
      "107          7.3         2.9          6.3         1.8  Iris-virginica\n",
      "108          6.7         2.5          5.8         1.8  Iris-virginica\n",
      "109          7.2         3.6          6.1         2.5  Iris-virginica\n",
      "110          6.5         3.2          5.1         2.0  Iris-virginica\n",
      "111          6.4         2.7          5.3         1.9  Iris-virginica\n",
      "112          6.8         3.0          5.5         2.1  Iris-virginica\n",
      "113          5.7         2.5          5.0         2.0  Iris-virginica\n",
      "114          5.8         2.8          5.1         2.4  Iris-virginica\n",
      "115          6.4         3.2          5.3         2.3  Iris-virginica\n",
      "116          6.5         3.0          5.5         1.8  Iris-virginica\n",
      "117          7.7         3.8          6.7         2.2  Iris-virginica\n",
      "118          7.7         2.6          6.9         2.3  Iris-virginica\n",
      "119          6.0         2.2          5.0         1.5  Iris-virginica\n",
      "120          6.9         3.2          5.7         2.3  Iris-virginica\n",
      "121          5.6         2.8          4.9         2.0  Iris-virginica\n",
      "122          7.7         2.8          6.7         2.0  Iris-virginica\n",
      "123          6.3         2.7          4.9         1.8  Iris-virginica\n",
      "124          6.7         3.3          5.7         2.1  Iris-virginica\n",
      "125          7.2         3.2          6.0         1.8  Iris-virginica\n",
      "126          6.2         2.8          4.8         1.8  Iris-virginica\n",
      "127          6.1         3.0          4.9         1.8  Iris-virginica\n",
      "128          6.4         2.8          5.6         2.1  Iris-virginica\n",
      "129          7.2         3.0          5.8         1.6  Iris-virginica\n",
      "130          7.4         2.8          6.1         1.9  Iris-virginica\n",
      "131          7.9         3.8          6.4         2.0  Iris-virginica\n",
      "132          6.4         2.8          5.6         2.2  Iris-virginica\n",
      "133          6.3         2.8          5.1         1.5  Iris-virginica\n",
      "134          6.1         2.6          5.6         1.4  Iris-virginica\n",
      "135          7.7         3.0          6.1         2.3  Iris-virginica\n",
      "136          6.3         3.4          5.6         2.4  Iris-virginica\n",
      "137          6.4         3.1          5.5         1.8  Iris-virginica\n",
      "138          6.0         3.0          4.8         1.8  Iris-virginica\n",
      "139          6.9         3.1          5.4         2.1  Iris-virginica\n",
      "140          6.7         3.1          5.6         2.4  Iris-virginica\n",
      "141          6.9         3.1          5.1         2.3  Iris-virginica\n",
      "142          5.8         2.7          5.1         1.9  Iris-virginica\n",
      "143          6.8         3.2          5.9         2.3  Iris-virginica\n",
      "144          6.7         3.3          5.7         2.5  Iris-virginica\n",
      "145          6.7         3.0          5.2         2.3  Iris-virginica\n",
      "146          6.3         2.5          5.0         1.9  Iris-virginica\n",
      "147          6.5         3.0          5.2         2.0  Iris-virginica\n",
      "148          6.2         3.4          5.4         2.3  Iris-virginica\n",
      "149          5.9         3.0          5.1         1.8  Iris-virginica\n"
     ]
    }
   ],
   "source": [
    "print(iris_virginica)"
   ]
  },
  {
   "cell_type": "code",
   "execution_count": 29,
   "metadata": {},
   "outputs": [
    {
     "name": "stdout",
     "output_type": "stream",
     "text": [
      "    sepallength  sepalwidth  petallength  petalwidth           class\n",
      "0           6.3         3.3          6.0         2.5  Iris-virginica\n",
      "1           5.8         2.7          5.1         1.9  Iris-virginica\n",
      "2           7.1         3.0          5.9         2.1  Iris-virginica\n",
      "3           6.3         2.9          5.6         1.8  Iris-virginica\n",
      "4           6.5         3.0          5.8         2.2  Iris-virginica\n",
      "5           7.6         3.0          6.6         2.1  Iris-virginica\n",
      "6           4.9         2.5          4.5         1.7  Iris-virginica\n",
      "7           7.3         2.9          6.3         1.8  Iris-virginica\n",
      "8           6.7         2.5          5.8         1.8  Iris-virginica\n",
      "9           7.2         3.6          6.1         2.5  Iris-virginica\n",
      "10          6.5         3.2          5.1         2.0  Iris-virginica\n",
      "11          6.4         2.7          5.3         1.9  Iris-virginica\n",
      "12          6.8         3.0          5.5         2.1  Iris-virginica\n",
      "13          5.7         2.5          5.0         2.0  Iris-virginica\n",
      "14          5.8         2.8          5.1         2.4  Iris-virginica\n",
      "15          6.4         3.2          5.3         2.3  Iris-virginica\n",
      "16          6.5         3.0          5.5         1.8  Iris-virginica\n",
      "17          7.7         3.8          6.7         2.2  Iris-virginica\n",
      "18          7.7         2.6          6.9         2.3  Iris-virginica\n",
      "19          6.0         2.2          5.0         1.5  Iris-virginica\n",
      "20          6.9         3.2          5.7         2.3  Iris-virginica\n",
      "21          5.6         2.8          4.9         2.0  Iris-virginica\n",
      "22          7.7         2.8          6.7         2.0  Iris-virginica\n",
      "23          6.3         2.7          4.9         1.8  Iris-virginica\n",
      "24          6.7         3.3          5.7         2.1  Iris-virginica\n",
      "25          7.2         3.2          6.0         1.8  Iris-virginica\n",
      "26          6.2         2.8          4.8         1.8  Iris-virginica\n",
      "27          6.1         3.0          4.9         1.8  Iris-virginica\n",
      "28          6.4         2.8          5.6         2.1  Iris-virginica\n",
      "29          7.2         3.0          5.8         1.6  Iris-virginica\n",
      "30          7.4         2.8          6.1         1.9  Iris-virginica\n",
      "31          7.9         3.8          6.4         2.0  Iris-virginica\n",
      "32          6.4         2.8          5.6         2.2  Iris-virginica\n",
      "33          6.3         2.8          5.1         1.5  Iris-virginica\n",
      "34          6.1         2.6          5.6         1.4  Iris-virginica\n",
      "35          7.7         3.0          6.1         2.3  Iris-virginica\n",
      "36          6.3         3.4          5.6         2.4  Iris-virginica\n",
      "37          6.4         3.1          5.5         1.8  Iris-virginica\n",
      "38          6.0         3.0          4.8         1.8  Iris-virginica\n",
      "39          6.9         3.1          5.4         2.1  Iris-virginica\n",
      "40          6.7         3.1          5.6         2.4  Iris-virginica\n",
      "41          6.9         3.1          5.1         2.3  Iris-virginica\n",
      "42          5.8         2.7          5.1         1.9  Iris-virginica\n",
      "43          6.8         3.2          5.9         2.3  Iris-virginica\n",
      "44          6.7         3.3          5.7         2.5  Iris-virginica\n",
      "45          6.7         3.0          5.2         2.3  Iris-virginica\n",
      "46          6.3         2.5          5.0         1.9  Iris-virginica\n",
      "47          6.5         3.0          5.2         2.0  Iris-virginica\n",
      "48          6.2         3.4          5.4         2.3  Iris-virginica\n",
      "49          5.9         3.0          5.1         1.8  Iris-virginica\n"
     ]
    }
   ],
   "source": [
    "iris_virginica.index=[var for var in range(0,iris_virginica['petallength'].count())]\n",
    "print(iris_virginica)"
   ]
  },
  {
   "cell_type": "code",
   "execution_count": 30,
   "metadata": {},
   "outputs": [
    {
     "name": "stdout",
     "output_type": "stream",
     "text": [
      "    sepallength  sepalwidth  petallength  petalwidth        class\n",
      "0           5.1         3.5          1.4         0.2  Iris-setosa\n",
      "1           4.9         3.0          1.4         0.2  Iris-setosa\n",
      "2           4.7         3.2          1.3         0.2  Iris-setosa\n",
      "3           4.6         3.1          1.5         0.2  Iris-setosa\n",
      "4           5.0         3.6          1.4         0.2  Iris-setosa\n",
      "5           5.4         3.9          1.7         0.4  Iris-setosa\n",
      "6           4.6         3.4          1.4         0.3  Iris-setosa\n",
      "7           5.0         3.4          1.5         0.2  Iris-setosa\n",
      "8           4.4         2.9          1.4         0.2  Iris-setosa\n",
      "9           4.9         3.1          1.5         0.1  Iris-setosa\n",
      "10          5.4         3.7          1.5         0.2  Iris-setosa\n",
      "11          4.8         3.4          1.6         0.2  Iris-setosa\n",
      "12          4.8         3.0          1.4         0.1  Iris-setosa\n",
      "13          4.3         3.0          1.1         0.1  Iris-setosa\n",
      "14          5.8         4.0          1.2         0.2  Iris-setosa\n",
      "15          5.7         4.4          1.5         0.4  Iris-setosa\n",
      "16          5.4         3.9          1.3         0.4  Iris-setosa\n",
      "17          5.1         3.5          1.4         0.3  Iris-setosa\n",
      "18          5.7         3.8          1.7         0.3  Iris-setosa\n",
      "19          5.1         3.8          1.5         0.3  Iris-setosa\n",
      "20          5.4         3.4          1.7         0.2  Iris-setosa\n",
      "21          5.1         3.7          1.5         0.4  Iris-setosa\n",
      "22          4.6         3.6          1.0         0.2  Iris-setosa\n",
      "23          5.1         3.3          1.7         0.5  Iris-setosa\n",
      "24          4.8         3.4          1.9         0.2  Iris-setosa\n",
      "25          5.0         3.0          1.6         0.2  Iris-setosa\n",
      "26          5.0         3.4          1.6         0.4  Iris-setosa\n",
      "27          5.2         3.5          1.5         0.2  Iris-setosa\n",
      "28          5.2         3.4          1.4         0.2  Iris-setosa\n",
      "29          4.7         3.2          1.6         0.2  Iris-setosa\n",
      "30          4.8         3.1          1.6         0.2  Iris-setosa\n",
      "31          5.4         3.4          1.5         0.4  Iris-setosa\n",
      "32          5.2         4.1          1.5         0.1  Iris-setosa\n",
      "33          5.5         4.2          1.4         0.2  Iris-setosa\n",
      "34          4.9         3.1          1.5         0.1  Iris-setosa\n",
      "35          5.0         3.2          1.2         0.2  Iris-setosa\n",
      "36          5.5         3.5          1.3         0.2  Iris-setosa\n",
      "37          4.9         3.1          1.5         0.1  Iris-setosa\n",
      "38          4.4         3.0          1.3         0.2  Iris-setosa\n",
      "39          5.1         3.4          1.5         0.2  Iris-setosa\n",
      "40          5.0         3.5          1.3         0.3  Iris-setosa\n",
      "41          4.5         2.3          1.3         0.3  Iris-setosa\n",
      "42          4.4         3.2          1.3         0.2  Iris-setosa\n",
      "43          5.0         3.5          1.6         0.6  Iris-setosa\n",
      "44          5.1         3.8          1.9         0.4  Iris-setosa\n",
      "45          4.8         3.0          1.4         0.3  Iris-setosa\n",
      "46          5.1         3.8          1.6         0.2  Iris-setosa\n",
      "47          4.6         3.2          1.4         0.2  Iris-setosa\n",
      "48          5.3         3.7          1.5         0.2  Iris-setosa\n",
      "49          5.0         3.3          1.4         0.2  Iris-setosa\n"
     ]
    }
   ],
   "source": [
    "iris_setosa.index=[var for var in range(0,iris_setosa['petallength'].count())]\n",
    "print(iris_setosa)"
   ]
  },
  {
   "cell_type": "code",
   "execution_count": 33,
   "metadata": {},
   "outputs": [
    {
     "data": {
      "image/png": "[encoded data removed]",
      "text/plain": [
       "<Figure size 432x288 with 1 Axes>"
      ]
     },
     "metadata": {
      "needs_background": "light"
     },
     "output_type": "display_data"
    }
   ],
   "source": [
    "plt.plot(iris_setosa['petallength'])\n",
    "plt.plot(iris_virginica['petallength'])\n",
    "plt.xlabel(\"iris_setosa /iris_virginica\")\n",
    "plt.ylabel(\"petal_length\")\n",
    "plt.show()"
   ]
  },
  {
   "cell_type": "code",
   "execution_count": 34,
   "metadata": {},
   "outputs": [
    {
     "data": {
      "image/png": "[encoded data removed]",
      "text/plain": [
       "<Figure size 432x288 with 1 Axes>"
      ]
     },
     "metadata": {
      "needs_background": "light"
     },
     "output_type": "display_data"
    }
   ],
   "source": [
    "plt.plot(iris_setosa['petalwidth'])\n",
    "plt.plot(iris_virginica['petalwidth'])\n",
    "plt.xlabel(\"iris_setosa /iris_virginica\")\n",
    "plt.ylabel(\"petalwidth\")\n",
    "plt.show()"
   ]
  },
  {
   "cell_type": "code",
   "execution_count": 36,
   "metadata": {},
   "outputs": [
    {
     "data": {
      "image/png": "[encoded data removed]",
      "text/plain": [
       "<Figure size 432x288 with 1 Axes>"
      ]
     },
     "metadata": {
      "needs_background": "light"
     },
     "output_type": "display_data"
    }
   ],
   "source": [
    "plt.hist(iris_setosa['petallength'])\n",
    "plt.hist(iris_virginica['petallength'])\n",
    "plt.xlabel(\"iris_setosa /iris_virginica\")\n",
    "plt.ylabel(\"petal_length\")\n",
    "plt.show()"
   ]
  },
  {
   "cell_type": "code",
   "execution_count": null,
   "metadata": {},
   "outputs": [],
   "source": []
  }
 ],
 "metadata": {
  "kernelspec": {
   "display_name": "Python 3.10.5 64-bit (windows store)",
   "language": "python",
   "name": "python3"
  },
  "language_info": {
   "codemirror_mode": {
    "name": "ipython",
    "version": 3
   },
   "file_extension": ".py",
   "mimetype": "text/x-python",
   "name": "python",
   "nbconvert_exporter": "python",
   "pygments_lexer": "ipython3",
   "version": "3.10.5"
  },
  "orig_nbformat": 4,
  "vscode": {
   "interpreter": {
    "hash": "97fd7ba347fa7edfb30a93a2a450cec700e1031e62944b051bb4b8260b66bd03"
   }
  }
 },
 "nbformat": 4,
 "nbformat_minor": 2
}
