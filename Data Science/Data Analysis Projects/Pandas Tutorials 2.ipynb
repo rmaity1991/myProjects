{
 "cells": [
  {
   "cell_type": "code",
   "execution_count": 1,
   "id": "6ce4caea",
   "metadata": {},
   "outputs": [],
   "source": [
    "import pandas as pd"
   ]
  },
  {
   "cell_type": "code",
   "execution_count": 2,
   "id": "b6462432",
   "metadata": {},
   "outputs": [
    {
     "name": "stdout",
     "output_type": "stream",
     "text": [
      "0   -0.197894\n",
      "1    0.766663\n",
      "2   -0.137519\n",
      "3   -0.960715\n",
      "dtype: float64\n"
     ]
    }
   ],
   "source": [
    "import numpy as np\n",
    "\n",
    "#Create a series with 100 random numbers\n",
    "s = pd.Series(np.random.randn(4))\n",
    "print (s)"
   ]
  },
  {
   "cell_type": "code",
   "execution_count": 3,
   "id": "d2d190e9",
   "metadata": {},
   "outputs": [
    {
     "name": "stdout",
     "output_type": "stream",
     "text": [
      "The axes are:\n",
      "[RangeIndex(start=0, stop=4, step=1)]\n"
     ]
    }
   ],
   "source": [
    "#Create a series with 100 random numbers\n",
    "s = pd.Series(np.random.randn(4))\n",
    "print (\"The axes are:\")\n",
    "print (s.axes)"
   ]
  },
  {
   "cell_type": "markdown",
   "id": "a5be1a85",
   "metadata": {},
   "source": [
    "empty\n",
    "\n",
    "Returns the Boolean value saying whether the Object is empty or not. True indicates that the object is empty."
   ]
  },
  {
   "cell_type": "code",
   "execution_count": 4,
   "id": "8ca90969",
   "metadata": {},
   "outputs": [
    {
     "name": "stdout",
     "output_type": "stream",
     "text": [
      "Is the Object empty?\n",
      "False\n"
     ]
    }
   ],
   "source": [
    "import numpy as np\n",
    "\n",
    "#Create a series with 100 random numbers\n",
    "s = pd.Series(np.random.randn(4))\n",
    "print (\"Is the Object empty?\")\n",
    "print (s.empty)"
   ]
  },
  {
   "cell_type": "code",
   "execution_count": 5,
   "id": "412d2c17",
   "metadata": {},
   "outputs": [
    {
     "name": "stdout",
     "output_type": "stream",
     "text": [
      "0    0.015514\n",
      "1   -1.780545\n",
      "2    2.881240\n",
      "3   -1.470141\n",
      "dtype: float64\n",
      "The dimensions of the object:\n",
      "1\n"
     ]
    }
   ],
   "source": [
    "#Create a series with 4 random numbers\n",
    "s = pd.Series(np.random.randn(4))\n",
    "print (s)\n",
    "\n",
    "print (\"The dimensions of the object:\")\n",
    "print (s.ndim)"
   ]
  },
  {
   "cell_type": "code",
   "execution_count": 6,
   "id": "ad40128b",
   "metadata": {},
   "outputs": [
    {
     "name": "stdout",
     "output_type": "stream",
     "text": [
      "0   -0.242392\n",
      "1    0.758517\n",
      "dtype: float64\n",
      "The size of the object:\n",
      "2\n"
     ]
    }
   ],
   "source": [
    "#Create a series with 4 random numbers\n",
    "s = pd.Series(np.random.randn(2))\n",
    "print (s)\n",
    "print (\"The size of the object:\")\n",
    "print (s.size)"
   ]
  },
  {
   "cell_type": "code",
   "execution_count": 7,
   "id": "c93bef85",
   "metadata": {},
   "outputs": [
    {
     "name": "stdout",
     "output_type": "stream",
     "text": [
      "0    0.978341\n",
      "1   -0.366893\n",
      "2    1.181748\n",
      "3   -2.456781\n",
      "dtype: float64\n",
      "The actual data series is:\n",
      "[ 0.97834141 -0.36689261  1.18174817 -2.45678104]\n"
     ]
    }
   ],
   "source": [
    "#Create a series with 4 random numbers\n",
    "s = pd.Series(np.random.randn(4))\n",
    "print (s)\n",
    "\n",
    "print (\"The actual data series is:\")\n",
    "print (s.values)"
   ]
  },
  {
   "cell_type": "markdown",
   "id": "e9e06a5f",
   "metadata": {},
   "source": [
    "Head & Tail \n",
    "\n",
    "To view a small sample of a Series or the DataFrame object, use the head() and the tail() methods.\n",
    "\n",
    "head() returns the first n rows(observe the index values). \n",
    "The default number of elements to display is five, but you may pass a custom number."
   ]
  },
  {
   "cell_type": "code",
   "execution_count": 8,
   "id": "24c5035a",
   "metadata": {},
   "outputs": [
    {
     "name": "stdout",
     "output_type": "stream",
     "text": [
      "The original series is:\n",
      "0   -1.986542\n",
      "1    0.421847\n",
      "2   -0.168097\n",
      "3    0.979046\n",
      "dtype: float64\n",
      "The first two rows of the data series:\n",
      "0   -1.986542\n",
      "1    0.421847\n",
      "dtype: float64\n"
     ]
    }
   ],
   "source": [
    "#Create a series with 4 random numbers\n",
    "s = pd.Series(np.random.randn(4))\n",
    "print (\"The original series is:\")\n",
    "print (s)\n",
    "\n",
    "print (\"The first two rows of the data series:\")\n",
    "print (s.head(2))"
   ]
  },
  {
   "cell_type": "code",
   "execution_count": 9,
   "id": "4cd779d4",
   "metadata": {},
   "outputs": [
    {
     "name": "stdout",
     "output_type": "stream",
     "text": [
      "The last two rows of the data series:\n",
      "2   -0.168097\n",
      "3    0.979046\n",
      "dtype: float64\n"
     ]
    }
   ],
   "source": [
    "print (\"The last two rows of the data series:\")\n",
    "print (s.tail(2))"
   ]
  },
  {
   "cell_type": "code",
   "execution_count": 10,
   "id": "49b61fde",
   "metadata": {},
   "outputs": [
    {
     "name": "stdout",
     "output_type": "stream",
     "text": [
      "Our data series is:\n",
      "    Name  Age  Rating\n",
      "0    Tom   25    4.23\n",
      "1  James   26    3.24\n",
      "2  Ricky   25    3.98\n",
      "3    Vin   23    2.56\n",
      "4  Steve   30    3.20\n",
      "5  Smith   29    4.60\n",
      "6   Jack   23    3.80\n"
     ]
    }
   ],
   "source": [
    "#Create a Dictionary of series\n",
    "d = {'Name':pd.Series(['Tom','James','Ricky','Vin','Steve','Smith','Jack']),\n",
    "   'Age':pd.Series([25,26,25,23,30,29,23]),\n",
    "   'Rating':pd.Series([4.23,3.24,3.98,2.56,3.20,4.6,3.8])}\n",
    "\n",
    "#Create a DataFrame\n",
    "df = pd.DataFrame(d)\n",
    "print (\"Our data series is:\")\n",
    "print (df)"
   ]
  },
  {
   "cell_type": "code",
   "execution_count": 12,
   "id": "419c2f52",
   "metadata": {},
   "outputs": [
    {
     "name": "stdout",
     "output_type": "stream",
     "text": [
      "    Name  Age  Rating\n",
      "0    Tom   25    4.23\n",
      "1  James   26    3.24\n",
      "2  Ricky   25    3.98\n",
      "3    Vin   23    2.56\n",
      "4  Steve   30    3.20\n",
      "5  Smith   29    4.60\n",
      "6   Jack   23    3.80\n",
      "The transpose of the data series is:\n",
      "           0      1      2     3      4      5     6\n",
      "Name     Tom  James  Ricky   Vin  Steve  Smith  Jack\n",
      "Age       25     26     25    23     30     29    23\n",
      "Rating  4.23   3.24   3.98  2.56    3.2    4.6   3.8\n"
     ]
    }
   ],
   "source": [
    "# Create a Dictionary of series\n",
    "d = {'Name':pd.Series(['Tom','James','Ricky','Vin','Steve','Smith','Jack']),\n",
    "   'Age':pd.Series([25,26,25,23,30,29,23]),\n",
    "   'Rating':pd.Series([4.23,3.24,3.98,2.56,3.20,4.6,3.8])}\n",
    "\n",
    "# Create a DataFrame\n",
    "df = pd.DataFrame(d)\n",
    "print(df)\n",
    "print (\"The transpose of the data series is:\")\n",
    "print (df.T)"
   ]
  },
  {
   "cell_type": "code",
   "execution_count": 13,
   "id": "9f8f7fb1",
   "metadata": {},
   "outputs": [
    {
     "name": "stdout",
     "output_type": "stream",
     "text": [
      "Row axis labels and column axis labels are:\n",
      "[RangeIndex(start=0, stop=7, step=1), Index(['Name', 'Age', 'Rating'], dtype='object')]\n"
     ]
    }
   ],
   "source": [
    "#Create a Dictionary of series\n",
    "d = {'Name':pd.Series(['Tom','James','Ricky','Vin','Steve','Smith','Jack']),\n",
    "   'Age':pd.Series([25,26,25,23,30,29,23]),\n",
    "   'Rating':pd.Series([4.23,3.24,3.98,2.56,3.20,4.6,3.8])}\n",
    "\n",
    "#Create a DataFrame\n",
    "df = pd.DataFrame(d)\n",
    "print (\"Row axis labels and column axis labels are:\")\n",
    "print (df.axes)"
   ]
  },
  {
   "cell_type": "code",
   "execution_count": 14,
   "id": "4f2f6e1d",
   "metadata": {},
   "outputs": [
    {
     "name": "stdout",
     "output_type": "stream",
     "text": [
      "The data types of each column are:\n",
      "Name       object\n",
      "Age         int64\n",
      "Rating    float64\n",
      "dtype: object\n"
     ]
    }
   ],
   "source": [
    "#Create a Dictionary of series\n",
    "d = {'Name':pd.Series(['Tom','James','Ricky','Vin','Steve','Smith','Jack']),\n",
    "   'Age':pd.Series([25,26,25,23,30,29,23]),\n",
    "   'Rating':pd.Series([4.23,3.24,3.98,2.56,3.20,4.6,3.8])}\n",
    "\n",
    "#Create a DataFrame\n",
    "df = pd.DataFrame(d)\n",
    "print (\"The data types of each column are:\")\n",
    "print (df.dtypes)"
   ]
  },
  {
   "cell_type": "markdown",
   "id": "2b51a3ef",
   "metadata": {},
   "source": [
    "A large number of methods collectively compute descriptive statistics and other related operations on DataFrame. \n",
    "Most of these are aggregations like sum(), mean(), but some of them, like sumsum(), produce an object of the same size. Generally speaking, these methods take an axis argument, just like ndarray.{sum, std, ...}, but the axis can be specified by name or integer\n",
    "\n",
    "\n",
    "DataFrame − “index” (axis=0, default), “columns” (axis=1)\n",
    "\n",
    "\n",
    "Let us create a DataFrame and use this object throughout this chapter for all the operations."
   ]
  },
  {
   "cell_type": "code",
   "execution_count": 15,
   "id": "29c4ea49",
   "metadata": {},
   "outputs": [
    {
     "name": "stdout",
     "output_type": "stream",
     "text": [
      "      Name  Age  Rating\n",
      "0      Tom   25    4.23\n",
      "1    James   26    3.24\n",
      "2    Ricky   25    3.98\n",
      "3      Vin   23    2.56\n",
      "4    Steve   30    3.20\n",
      "5    Smith   29    4.60\n",
      "6     Jack   23    3.80\n",
      "7      Lee   34    3.78\n",
      "8    David   40    2.98\n",
      "9   Gasper   30    4.80\n",
      "10  Betina   51    4.10\n",
      "11  Andres   46    3.65\n"
     ]
    }
   ],
   "source": [
    "#Create a Dictionary of series\n",
    "d = {'Name':pd.Series(['Tom','James','Ricky','Vin','Steve','Smith','Jack',\n",
    "   'Lee','David','Gasper','Betina','Andres']),\n",
    "   'Age':pd.Series([25,26,25,23,30,29,23,34,40,30,51,46]),\n",
    "   'Rating':pd.Series([4.23,3.24,3.98,2.56,3.20,4.6,3.8,3.78,2.98,4.80,4.10,3.65])\n",
    "}\n",
    "\n",
    "#Create a DataFrame\n",
    "df = pd.DataFrame(d)\n",
    "print (df)"
   ]
  },
  {
   "cell_type": "code",
   "execution_count": 19,
   "id": "5ca0780c",
   "metadata": {},
   "outputs": [
    {
     "name": "stdout",
     "output_type": "stream",
     "text": [
      "Name      TomJamesRickyVinSteveSmithJackLeeDavidGasperBe...\n",
      "Age                                                     382\n",
      "Rating                                                44.92\n",
      "dtype: object\n",
      "0     29.23\n",
      "1     29.24\n",
      "2     28.98\n",
      "3     25.56\n",
      "4     33.20\n",
      "5     33.60\n",
      "6     26.80\n",
      "7     37.78\n",
      "8     42.98\n",
      "9     34.80\n",
      "10    55.10\n",
      "11    49.65\n",
      "dtype: float64\n"
     ]
    },
    {
     "name": "stderr",
     "output_type": "stream",
     "text": [
      "C:\\Users\\11037833\\AppData\\Local\\Temp/ipykernel_18944/2362065026.py:2: FutureWarning: Dropping of nuisance columns in DataFrame reductions (with 'numeric_only=None') is deprecated; in a future version this will raise TypeError.  Select only valid columns before calling the reduction.\n",
      "  print (df.sum(axis=1)) # row wise addition\n"
     ]
    }
   ],
   "source": [
    "print (df.sum(axis=0)) # column wise addition\n",
    "print (df.sum(axis=1)) # row wise addition "
   ]
  },
  {
   "cell_type": "code",
   "execution_count": 22,
   "id": "3d7f5715",
   "metadata": {},
   "outputs": [
    {
     "name": "stdout",
     "output_type": "stream",
     "text": [
      "Age       31.833333\n",
      "Rating     3.743333\n",
      "dtype: float64\n",
      "0     14.615\n",
      "1     14.620\n",
      "2     14.490\n",
      "3     12.780\n",
      "4     16.600\n",
      "5     16.800\n",
      "6     13.400\n",
      "7     18.890\n",
      "8     21.490\n",
      "9     17.400\n",
      "10    27.550\n",
      "11    24.825\n",
      "dtype: float64\n"
     ]
    },
    {
     "name": "stderr",
     "output_type": "stream",
     "text": [
      "C:\\Users\\11037833\\AppData\\Local\\Temp/ipykernel_18944/3904662104.py:2: FutureWarning: Dropping of nuisance columns in DataFrame reductions (with 'numeric_only=None') is deprecated; in a future version this will raise TypeError.  Select only valid columns before calling the reduction.\n",
      "  print (df.mean(axis=0))\n",
      "C:\\Users\\11037833\\AppData\\Local\\Temp/ipykernel_18944/3904662104.py:3: FutureWarning: Dropping of nuisance columns in DataFrame reductions (with 'numeric_only=None') is deprecated; in a future version this will raise TypeError.  Select only valid columns before calling the reduction.\n",
      "  print (df.mean(axis=1))\n"
     ]
    }
   ],
   "source": [
    "df = pd.DataFrame(d)\n",
    "print (df.mean(axis=0))\n",
    "print (df.mean(axis=1))"
   ]
  },
  {
   "cell_type": "code",
   "execution_count": 23,
   "id": "184f27d7",
   "metadata": {},
   "outputs": [
    {
     "name": "stdout",
     "output_type": "stream",
     "text": [
      "Age       9.232682\n",
      "Rating    0.661628\n",
      "dtype: float64\n",
      "0     14.686608\n",
      "1     16.093750\n",
      "2     14.863385\n",
      "3     14.453263\n",
      "4     18.950462\n",
      "5     17.253405\n",
      "6     13.576450\n",
      "7     21.368767\n",
      "8     26.177093\n",
      "9     17.819091\n",
      "10    33.163308\n",
      "11    29.945972\n",
      "dtype: float64\n"
     ]
    },
    {
     "name": "stderr",
     "output_type": "stream",
     "text": [
      "C:\\Users\\11037833\\AppData\\Local\\Temp/ipykernel_18944/1389515899.py:1: FutureWarning: Dropping of nuisance columns in DataFrame reductions (with 'numeric_only=None') is deprecated; in a future version this will raise TypeError.  Select only valid columns before calling the reduction.\n",
      "  print (df.std(axis=0))\n",
      "C:\\Users\\11037833\\AppData\\Local\\Temp/ipykernel_18944/1389515899.py:2: FutureWarning: Dropping of nuisance columns in DataFrame reductions (with 'numeric_only=None') is deprecated; in a future version this will raise TypeError.  Select only valid columns before calling the reduction.\n",
      "  print(df.std(axis=1))\n"
     ]
    }
   ],
   "source": [
    "print (df.std(axis=0))\n",
    "print(df.std(axis=1))"
   ]
  },
  {
   "cell_type": "code",
   "execution_count": 24,
   "id": "a996bc60",
   "metadata": {},
   "outputs": [
    {
     "name": "stdout",
     "output_type": "stream",
     "text": [
      "             Age     Rating\n",
      "count  12.000000  12.000000\n",
      "mean   31.833333   3.743333\n",
      "std     9.232682   0.661628\n",
      "min    23.000000   2.560000\n",
      "25%    25.000000   3.230000\n",
      "50%    29.500000   3.790000\n",
      "75%    35.500000   4.132500\n",
      "max    51.000000   4.800000\n"
     ]
    }
   ],
   "source": [
    "print (df.describe())"
   ]
  },
  {
   "cell_type": "markdown",
   "id": "0672ca11",
   "metadata": {},
   "source": [
    "To apply your own or another library’s functions to Pandas objects, you should be aware of the three important methods. The methods have been discussed below. The appropriate method to use depends on whether your function expects to operate on an entire DataFrame, row- or column-wise, or element wise.\n",
    "\n",
    "Table wise Function Application: pipe()\n",
    "Row or Column Wise Function Application: apply()\n",
    "Element wise Function Application: applymap()\n",
    "Table-wise Function Application\n",
    "Custom operations can be performed by passing the function and the appropriate number of parameters as pipe arguments. Thus, operation is performed on the whole DataFrame.\n",
    "\n",
    "For example, add a value 2 to all the elements in the DataFrame. Then,"
   ]
  },
  {
   "cell_type": "code",
   "execution_count": 28,
   "id": "0f69fc39",
   "metadata": {},
   "outputs": [
    {
     "name": "stdout",
     "output_type": "stream",
     "text": [
      "       col1      col2      col3\n",
      "0 -0.078359 -1.121406 -1.479560\n",
      "1  0.566250  1.467076 -0.152005\n",
      "2  0.768791  0.761842  1.316007\n",
      "3 -1.620273 -0.664857  0.113560\n",
      "4  1.258684  0.331184  2.351012\n"
     ]
    },
    {
     "data": {
      "text/html": [
       "<div>\n",
       "<style scoped>\n",
       "    .dataframe tbody tr th:only-of-type {\n",
       "        vertical-align: middle;\n",
       "    }\n",
       "\n",
       "    .dataframe tbody tr th {\n",
       "        vertical-align: top;\n",
       "    }\n",
       "\n",
       "    .dataframe thead th {\n",
       "        text-align: right;\n",
       "    }\n",
       "</style>\n",
       "<table border=\"1\" class=\"dataframe\">\n",
       "  <thead>\n",
       "    <tr style=\"text-align: right;\">\n",
       "      <th></th>\n",
       "      <th>col1</th>\n",
       "      <th>col2</th>\n",
       "      <th>col3</th>\n",
       "    </tr>\n",
       "  </thead>\n",
       "  <tbody>\n",
       "    <tr>\n",
       "      <th>0</th>\n",
       "      <td>1.921641</td>\n",
       "      <td>0.878594</td>\n",
       "      <td>0.520440</td>\n",
       "    </tr>\n",
       "    <tr>\n",
       "      <th>1</th>\n",
       "      <td>2.566250</td>\n",
       "      <td>3.467076</td>\n",
       "      <td>1.847995</td>\n",
       "    </tr>\n",
       "    <tr>\n",
       "      <th>2</th>\n",
       "      <td>2.768791</td>\n",
       "      <td>2.761842</td>\n",
       "      <td>3.316007</td>\n",
       "    </tr>\n",
       "    <tr>\n",
       "      <th>3</th>\n",
       "      <td>0.379727</td>\n",
       "      <td>1.335143</td>\n",
       "      <td>2.113560</td>\n",
       "    </tr>\n",
       "    <tr>\n",
       "      <th>4</th>\n",
       "      <td>3.258684</td>\n",
       "      <td>2.331184</td>\n",
       "      <td>4.351012</td>\n",
       "    </tr>\n",
       "  </tbody>\n",
       "</table>\n",
       "</div>"
      ],
      "text/plain": [
       "       col1      col2      col3\n",
       "0  1.921641  0.878594  0.520440\n",
       "1  2.566250  3.467076  1.847995\n",
       "2  2.768791  2.761842  3.316007\n",
       "3  0.379727  1.335143  2.113560\n",
       "4  3.258684  2.331184  4.351012"
      ]
     },
     "execution_count": 28,
     "metadata": {},
     "output_type": "execute_result"
    }
   ],
   "source": [
    "def adder(ele1,ele2):\n",
    "   return ele1+ele2\n",
    "\n",
    "df = pd.DataFrame(np.random.randn(5,3),columns=['col1','col2','col3'])\n",
    "print(df)\n",
    "df.pipe(adder,2) # takes each elemnt of the df and adds 2 to it using function of adder defined earlier"
   ]
  },
  {
   "cell_type": "code",
   "execution_count": 29,
   "id": "3559e618",
   "metadata": {},
   "outputs": [
    {
     "name": "stdout",
     "output_type": "stream",
     "text": [
      "col1    0.179019\n",
      "col2    0.154768\n",
      "col3    0.429803\n",
      "dtype: float64\n"
     ]
    }
   ],
   "source": [
    "print (df.apply(np.mean))"
   ]
  },
  {
   "cell_type": "markdown",
   "id": "72624d61",
   "metadata": {},
   "source": [
    "Row or Column Wise Function Application\n",
    "Arbitrary functions can be applied along the axes of a DataFrame or Panel using the apply() method, which, like the descriptive statistics methods, takes an optional axis argument. By default, the operation performs column wise, taking each column as an array-like."
   ]
  },
  {
   "cell_type": "code",
   "execution_count": 31,
   "id": "2c01066f",
   "metadata": {},
   "outputs": [
    {
     "name": "stdout",
     "output_type": "stream",
     "text": [
      "col1   -0.166266\n",
      "col2    0.393648\n",
      "col3   -0.744160\n",
      "dtype: float64\n"
     ]
    }
   ],
   "source": [
    "df = pd.DataFrame(np.random.randn(5,3),columns=['col1','col2','col3'])\n",
    "df.apply(np.mean)\n",
    "print (df.apply(np.mean))"
   ]
  },
  {
   "cell_type": "code",
   "execution_count": 34,
   "id": "0ae654da",
   "metadata": {},
   "outputs": [
    {
     "name": "stdout",
     "output_type": "stream",
     "text": [
      "0    0.214175\n",
      "1   -1.093576\n",
      "2    0.473793\n",
      "3    0.459836\n",
      "4   -0.915524\n",
      "dtype: float64\n",
      "col1   -0.166266\n",
      "col2    0.393648\n",
      "col3   -0.744160\n",
      "dtype: float64\n"
     ]
    }
   ],
   "source": [
    "print(df.apply(np.mean,axis=1))\n",
    "print (df.apply(np.mean,axis=0))"
   ]
  },
  {
   "cell_type": "code",
   "execution_count": 35,
   "id": "07011786",
   "metadata": {},
   "outputs": [
    {
     "name": "stdout",
     "output_type": "stream",
     "text": [
      "col1    0.387891\n",
      "col2    0.066467\n",
      "col3   -0.574916\n",
      "dtype: float64\n"
     ]
    }
   ],
   "source": [
    "df = pd.DataFrame(np.random.randn(5,3),columns=['col1','col2','col3'])\n",
    "df.apply(lambda x: x.max() - x.min())\n",
    "print (df.apply(np.mean))"
   ]
  },
  {
   "cell_type": "markdown",
   "id": "dd018d85",
   "metadata": {},
   "source": [
    "Element Wise Function Application\n",
    "Not all functions can be vectorized (neither the NumPy arrays which return another array nor any value), the methods applymap() on DataFrame and analogously map() on Series accept any Python function taking a single value and returning a single value.\n"
   ]
  },
  {
   "cell_type": "code",
   "execution_count": 38,
   "id": "9a95ecf3",
   "metadata": {},
   "outputs": [
    {
     "name": "stdout",
     "output_type": "stream",
     "text": [
      "       col1      col2      col3\n",
      "0  0.780130  0.482023  0.174533\n",
      "1 -0.187277 -1.138081  0.450892\n",
      "2 -0.348725  1.207817 -0.148049\n",
      "3 -0.359032 -1.874072 -1.259495\n",
      "4  0.227667 -0.750515 -1.068407\n",
      "0    78.012960\n",
      "1   -18.727727\n",
      "2   -34.872464\n",
      "3   -35.903214\n",
      "4    22.766694\n",
      "Name: col1, dtype: float64\n",
      "col1    0.022552\n",
      "col2   -0.414566\n",
      "col3   -0.370105\n",
      "dtype: float64\n"
     ]
    }
   ],
   "source": [
    "df = pd.DataFrame(np.random.randn(5,3),columns=['col1','col2','col3'])\n",
    "print(df)\n",
    "\n",
    "# My custom function\n",
    "print(df['col1'].map(lambda x:x*100))\n",
    "print (df.apply(np.mean))"
   ]
  },
  {
   "cell_type": "code",
   "execution_count": 41,
   "id": "64eef66b",
   "metadata": {},
   "outputs": [
    {
     "name": "stdout",
     "output_type": "stream",
     "text": [
      "            A     x         y       C           D\n",
      "0  2016-01-01   0.0  0.084043    High   98.933828\n",
      "1  2016-01-02   1.0  0.275015    High   92.112604\n",
      "2  2016-01-03   2.0  0.363639     Low   96.705351\n",
      "3  2016-01-04   3.0  0.958211     Low   75.451729\n",
      "4  2016-01-05   4.0  0.915286     Low   93.693259\n",
      "5  2016-01-06   5.0  0.347792    High  104.908755\n",
      "6  2016-01-07   6.0  0.152281  Medium   93.199210\n",
      "7  2016-01-08   7.0  0.799054    High  107.637890\n",
      "8  2016-01-09   8.0  0.560671     Low   95.373084\n",
      "9  2016-01-10   9.0  0.795462    High  102.545319\n",
      "10 2016-01-11  10.0  0.104964    High  100.208174\n",
      "11 2016-01-12  11.0  0.503871     Low  109.000709\n",
      "12 2016-01-13  12.0  0.737013     Low  108.936117\n",
      "13 2016-01-14  13.0  0.888267     Low   98.787205\n",
      "14 2016-01-15  14.0  0.831423  Medium   92.216262\n",
      "15 2016-01-16  15.0  0.185758     Low   91.364753\n",
      "16 2016-01-17  16.0  0.542553     Low  101.214803\n",
      "17 2016-01-18  17.0  0.559449  Medium  104.195229\n",
      "18 2016-01-19  18.0  0.117600  Medium   98.981586\n",
      "19 2016-01-20  19.0  0.439546     Low  101.325168\n",
      "           A     C   B\n",
      "0 2016-01-01  High NaN\n",
      "2 2016-01-03   Low NaN\n",
      "5 2016-01-06  High NaN\n"
     ]
    }
   ],
   "source": [
    "N=20\n",
    "df = pd.DataFrame({\n",
    "   'A': pd.date_range(start='2016-01-01',periods=N,freq='D'),\n",
    "   'x': np.linspace(0,stop=N-1,num=N),\n",
    "   'y': np.random.rand(N),\n",
    "   'C': np.random.choice(['Low','Medium','High'],N).tolist(),\n",
    "   'D': np.random.normal(100, 10, size=(N)).tolist()\n",
    "})\n",
    "print(df)\n",
    "\n",
    "#reindex the DataFrame\n",
    "df_reindexed = df.reindex(index=[0,2,5], columns=['A', 'C', 'B'])\n",
    "\n",
    "print (df_reindexed)"
   ]
  },
  {
   "cell_type": "code",
   "execution_count": null,
   "id": "ad2e1eb4",
   "metadata": {},
   "outputs": [],
   "source": []
  }
 ],
 "metadata": {
  "kernelspec": {
   "display_name": "Python 3 (ipykernel)",
   "language": "python",
   "name": "python3"
  },
  "language_info": {
   "codemirror_mode": {
    "name": "ipython",
    "version": 3
   },
   "file_extension": ".py",
   "mimetype": "text/x-python",
   "name": "python",
   "nbconvert_exporter": "python",
   "pygments_lexer": "ipython3",
   "version": "3.9.7"
  }
 },
 "nbformat": 4,
 "nbformat_minor": 5
}
