{
 "cells": [
  {
   "cell_type": "code",
   "execution_count": 2,
   "metadata": {},
   "outputs": [],
   "source": [
    "import pandas as pd\n",
    "import matplotlib.pyplot as plt\n",
    "import matplotlib.style\n",
    "\n",
    "import numpy as np"
   ]
  },
  {
   "cell_type": "code",
   "execution_count": 11,
   "metadata": {},
   "outputs": [
    {
     "data": {
      "image/png": "[encoded data removed]",
      "text/plain": [
       "<Figure size 432x288 with 1 Axes>"
      ]
     },
     "metadata": {},
     "output_type": "display_data"
    }
   ],
   "source": [
    "plt.style.use('ggplot')\n",
    "plt.plot(np.random.rand(10))\n",
    "plt.ylabel(\"Random Data Interpretation\")\n",
    "plt.show()"
   ]
  },
  {
   "cell_type": "code",
   "execution_count": 21,
   "metadata": {},
   "outputs": [
    {
     "name": "stdout",
     "output_type": "stream",
     "text": [
      "   id oil inter oecd   gdp60   gdp85  gdpgrowth  popgrowth  invest  school  \\\n",
      "0   1  no   yes   no  2485.0  4371.0        4.8        2.6    24.1     4.5   \n",
      "1   2  no    no   no  1588.0  1171.0        0.8        2.1     5.8     1.8   \n",
      "2   3  no    no   no  1116.0  1071.0        2.2        2.4    10.8     1.8   \n",
      "3   4  no   yes   no   959.0  3671.0        8.6        3.2    28.3     2.9   \n",
      "4   5  no    no   no   529.0   857.0        2.9        0.9    12.7     0.4   \n",
      "5   6  no    no   no   755.0   663.0        1.2        1.7     5.1     0.4   \n",
      "6   7  no   yes   no   889.0  2190.0        5.7        2.1    12.8     3.4   \n",
      "7   8  no    no   no   838.0   789.0        1.5        1.7    10.5     1.4   \n",
      "8   9  no    no   no   908.0   462.0       -0.9        1.9     6.9     0.4   \n",
      "9  10  no    no   no  1009.0  2624.0        6.2        2.4    28.8     3.8   \n",
      "\n",
      "   literacy60  \n",
      "0        10.0  \n",
      "1         5.0  \n",
      "2         5.0  \n",
      "3         NaN  \n",
      "4         2.0  \n",
      "5        14.0  \n",
      "6        19.0  \n",
      "7         7.0  \n",
      "8         6.0  \n",
      "9        16.0  \n"
     ]
    }
   ],
   "source": [
    "mdata=pd.read_csv(\"GrowthDJ.csv\")\n",
    "print(mdata.head(10))"
   ]
  },
  {
   "cell_type": "code",
   "execution_count": 22,
   "metadata": {},
   "outputs": [],
   "source": [
    "copydata=mdata.copy()"
   ]
  },
  {
   "cell_type": "code",
   "execution_count": 23,
   "metadata": {},
   "outputs": [
    {
     "name": "stdout",
     "output_type": "stream",
     "text": [
      "      id  oil inter oecd   gdp60    gdp85  gdpgrowth  popgrowth  invest  \\\n",
      "0      1   no   yes   no  2485.0   4371.0        4.8        2.6    24.1   \n",
      "1      2   no    no   no  1588.0   1171.0        0.8        2.1     5.8   \n",
      "2      3   no    no   no  1116.0   1071.0        2.2        2.4    10.8   \n",
      "3      4   no   yes   no   959.0   3671.0        8.6        3.2    28.3   \n",
      "4      5   no    no   no   529.0    857.0        2.9        0.9    12.7   \n",
      "..   ...  ...   ...  ...     ...      ...        ...        ...     ...   \n",
      "116  117   no   yes  yes  8440.0  13409.0        3.8        2.0    31.5   \n",
      "117  118  yes    no   no  3634.0      NaN        4.2        NaN    20.6   \n",
      "118  119   no   yes   no   879.0   2159.0        5.5        1.9    13.9   \n",
      "119  120   no   yes  yes  9523.0  12308.0        2.7        1.7    22.5   \n",
      "120  121   no    no   no  1781.0   2544.0        3.5        2.1    16.2   \n",
      "\n",
      "     school  literacy60  \n",
      "0       4.5        10.0  \n",
      "1       1.8         5.0  \n",
      "2       1.8         5.0  \n",
      "3       2.9         NaN  \n",
      "4       0.4         2.0  \n",
      "..      ...         ...  \n",
      "116     9.8       100.0  \n",
      "117     8.1         NaN  \n",
      "118     4.1        39.0  \n",
      "119    11.9        99.0  \n",
      "120     1.5        29.0  \n",
      "\n",
      "[121 rows x 11 columns]\n"
     ]
    }
   ],
   "source": [
    "print(copydata)"
   ]
  },
  {
   "cell_type": "code",
   "execution_count": 25,
   "metadata": {},
   "outputs": [],
   "source": [
    "withoil=copydata[copydata['oil']==\"yes\"]"
   ]
  },
  {
   "cell_type": "code",
   "execution_count": 26,
   "metadata": {},
   "outputs": [
    {
     "name": "stdout",
     "output_type": "stream",
     "text": [
      "      id  oil inter oecd    gdp60    gdp85  gdpgrowth  popgrowth  invest  \\\n",
      "12    13  yes    no   no   1307.0   5350.0        7.0        1.4    22.1   \n",
      "13    14  yes    no   no    799.0      NaN        3.6        NaN    18.1   \n",
      "15    16  yes    no   no    746.0    869.0        2.2        1.6    10.9   \n",
      "18    19  yes    no   no    431.0   1483.0        6.8        1.9    12.6   \n",
      "35    36  yes    no   no    817.0      NaN        7.2        NaN    17.7   \n",
      "43    44  yes    no   no   1224.0      NaN        1.6        NaN     6.9   \n",
      "44    45  yes    no   no      NaN      NaN        NaN        NaN    30.0   \n",
      "49    50  yes    no   no   3606.0   7400.0        6.3        3.4    18.4   \n",
      "50    51  yes    no   no   4916.0   5626.0        3.8        3.2    16.2   \n",
      "55    56  yes    no   no  77881.0  25635.0        2.4        6.8     9.5   \n",
      "58    59  yes    no   no      NaN  15584.0        NaN        3.3    15.6   \n",
      "61    62  yes    no   no   6731.0  11057.0        6.1        4.1    12.8   \n",
      "65    66  yes    no   no      NaN      NaN        8.0        NaN    20.7   \n",
      "67    68  yes    no   no      NaN  18513.0        NaN        NaN    26.5   \n",
      "68    69  yes    no   no      NaN   1918.0        NaN        2.5    17.2   \n",
      "71    72  yes    no   no   2948.0      NaN        5.2        NaN    31.2   \n",
      "77    78  yes    no   no   8091.0      NaN        3.9        NaN    29.0   \n",
      "80    81  yes    no   no   9015.0      NaN        2.8        NaN    26.9   \n",
      "81    82  yes    no   no   2293.0      NaN        6.0        NaN    30.9   \n",
      "90    91  yes    no   no   3165.0      NaN        4.8        NaN    19.5   \n",
      "110  111  yes    no   no   2761.0      NaN        1.1        NaN    32.4   \n",
      "113  114  yes    no   no   3226.0      NaN        4.5        NaN    19.4   \n",
      "117  118  yes    no   no   3634.0      NaN        4.2        NaN    20.6   \n",
      "\n",
      "     school  literacy60  \n",
      "12      2.6         NaN  \n",
      "13      1.5         NaN  \n",
      "15      NaN         7.0  \n",
      "18      2.0         NaN  \n",
      "35      3.7         NaN  \n",
      "43      0.9         8.0  \n",
      "44     12.1         NaN  \n",
      "49      6.5        16.0  \n",
      "50      7.4        18.0  \n",
      "55      9.6        47.0  \n",
      "58      2.7         NaN  \n",
      "61      3.1         3.0  \n",
      "65      NaN         NaN  \n",
      "67      NaN         NaN  \n",
      "68      0.6         3.0  \n",
      "71      8.2         NaN  \n",
      "77     10.2         NaN  \n",
      "80      5.0         NaN  \n",
      "81      7.1         NaN  \n",
      "90     12.1         NaN  \n",
      "110    11.7         NaN  \n",
      "113     8.1         NaN  \n",
      "117     8.1         NaN  \n"
     ]
    }
   ],
   "source": [
    "print(withoil)"
   ]
  },
  {
   "cell_type": "code",
   "execution_count": 31,
   "metadata": {},
   "outputs": [],
   "source": [
    "oilandgdp=withoil[withoil['gdp60']<=2000]"
   ]
  },
  {
   "cell_type": "code",
   "execution_count": 32,
   "metadata": {},
   "outputs": [
    {
     "name": "stdout",
     "output_type": "stream",
     "text": [
      "    id  oil inter oecd   gdp60   gdp85  gdpgrowth  popgrowth  invest  school  \\\n",
      "12  13  yes    no   no  1307.0  5350.0        7.0        1.4    22.1     2.6   \n",
      "13  14  yes    no   no   799.0     NaN        3.6        NaN    18.1     1.5   \n",
      "15  16  yes    no   no   746.0   869.0        2.2        1.6    10.9     NaN   \n",
      "18  19  yes    no   no   431.0  1483.0        6.8        1.9    12.6     2.0   \n",
      "35  36  yes    no   no   817.0     NaN        7.2        NaN    17.7     3.7   \n",
      "43  44  yes    no   no  1224.0     NaN        1.6        NaN     6.9     0.9   \n",
      "\n",
      "    literacy60  \n",
      "12         NaN  \n",
      "13         NaN  \n",
      "15         7.0  \n",
      "18         NaN  \n",
      "35         NaN  \n",
      "43         8.0  \n"
     ]
    }
   ],
   "source": [
    "print(oilandgdp)"
   ]
  },
  {
   "cell_type": "code",
   "execution_count": null,
   "metadata": {},
   "outputs": [],
   "source": []
  }
 ],
 "metadata": {
  "interpreter": {
   "hash": "b140b1f891d7f5d80e32e2da320cf6ca9380f361466450903247e3a62134aeb6"
  },
  "kernelspec": {
   "display_name": "Python 3.7.8 32-bit",
   "language": "python",
   "name": "python3"
  },
  "language_info": {
   "codemirror_mode": {
    "name": "ipython",
    "version": 3
   },
   "file_extension": ".py",
   "mimetype": "text/x-python",
   "name": "python",
   "nbconvert_exporter": "python",
   "pygments_lexer": "ipython3",
   "version": "3.7.8"
  },
  "orig_nbformat": 4
 },
 "nbformat": 4,
 "nbformat_minor": 2
}
