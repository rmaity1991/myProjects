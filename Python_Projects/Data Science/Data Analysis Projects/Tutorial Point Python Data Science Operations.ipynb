{
 "cells": [
  {
   "cell_type": "markdown",
   "id": "738da2d7",
   "metadata": {},
   "source": [
    "The most important object defined in NumPy is an N-dimensional array type called ndarray. It describes the collection of items of the same type. Items in the collection can be accessed using a zero-based index. An instance of ndarray class can be constructed by different array creation routines described later in the tutorial."
   ]
  },
  {
   "cell_type": "code",
   "execution_count": 3,
   "id": "e980aed9",
   "metadata": {},
   "outputs": [
    {
     "name": "stdout",
     "output_type": "stream",
     "text": [
      "[[1 2]\n",
      " [3 4]]\n"
     ]
    }
   ],
   "source": [
    "# more than one dimensions \n",
    "import numpy as np \n",
    "a = np.array([[1, 2], [3, 4]]) \n",
    "print(a)"
   ]
  },
  {
   "cell_type": "code",
   "execution_count": 4,
   "id": "92456deb",
   "metadata": {},
   "outputs": [
    {
     "name": "stdout",
     "output_type": "stream",
     "text": [
      "[[1 2 3 4 5]]\n"
     ]
    }
   ],
   "source": [
    "# minimum dimensions \n",
    "import numpy as np \n",
    "a = np.array([1, 2, 3,4,5], ndmin = 2) \n",
    "print(a)"
   ]
  },
  {
   "cell_type": "code",
   "execution_count": 5,
   "id": "c8fb2f95",
   "metadata": {},
   "outputs": [
    {
     "name": "stdout",
     "output_type": "stream",
     "text": [
      "[1.+0.j 2.+0.j 3.+0.j]\n"
     ]
    }
   ],
   "source": [
    "# dtype parameter \n",
    "import numpy as np \n",
    "a = np.array([1, 2, 3], dtype = complex) \n",
    "print(a)"
   ]
  },
  {
   "cell_type": "markdown",
   "id": "05bf9a23",
   "metadata": {},
   "source": [
    "Data Operations in Pandas\n",
    "Pandas handles data through Series,Data Frame, and Panel. We will see some examples from each of these.\n",
    "\n",
    "Pandas Series\n",
    "Series is a one-dimensional labeled array capable of holding data of any type (integer, string, float, python objects, etc.). The axis labels are collectively called index. A pandas Series can be created using the following constructor −"
   ]
  },
  {
   "cell_type": "code",
   "execution_count": 6,
   "id": "9721d4e4",
   "metadata": {},
   "outputs": [
    {
     "name": "stdout",
     "output_type": "stream",
     "text": [
      "0    a\n",
      "1    b\n",
      "2    c\n",
      "3    d\n",
      "dtype: object\n"
     ]
    }
   ],
   "source": [
    "#import the pandas library and aliasing as pd\n",
    "import pandas as pd\n",
    "import numpy as np\n",
    "data = np.array(['a','b','c','d'])\n",
    "s = pd.Series(data)\n",
    "print(s)"
   ]
  },
  {
   "cell_type": "markdown",
   "id": "f542cf95",
   "metadata": {},
   "source": [
    "Pandas DataFrame\n",
    "A Data frame is a two-dimensional data structure, i.e., data is aligned in a tabular fashion in rows and columns. A pandas DataFrame can be created using the following constructor −\n",
    "\n",
    "pandas.DataFrame( data, index, columns, dtype, copy)"
   ]
  },
  {
   "cell_type": "code",
   "execution_count": 7,
   "id": "abb1b248",
   "metadata": {},
   "outputs": [
    {
     "name": "stdout",
     "output_type": "stream",
     "text": [
      "        Name  Age\n",
      "rank1    Tom   28\n",
      "rank2   Jack   34\n",
      "rank3  Steve   29\n",
      "rank4  Ricky   42\n"
     ]
    }
   ],
   "source": [
    "data = {'Name':['Tom', 'Jack', 'Steve', 'Ricky'],'Age':[28,34,29,42]}\n",
    "df = pd.DataFrame(data, index=['rank1','rank2','rank3','rank4'])\n",
    "print(df)"
   ]
  },
  {
   "cell_type": "markdown",
   "id": "87a50dd8",
   "metadata": {},
   "source": [
    "Pandas Panel\n",
    "A panel is a 3D container of data. The term Panel data is derived from econometrics and is partially responsible for the name pandas − pan(el)-da(ta)-s.\n",
    "\n",
    "A Panel can be created using the following constructor −\n",
    "\n",
    "pandas.Panel(data, items, major_axis, minor_axis, dtype, copy)"
   ]
  },
  {
   "cell_type": "code",
   "execution_count": 8,
   "id": "a1a9e43f",
   "metadata": {},
   "outputs": [
    {
     "ename": "AttributeError",
     "evalue": "module 'pandas' has no attribute 'Panel'",
     "output_type": "error",
     "traceback": [
      "\u001b[1;31m---------------------------------------------------------------------------\u001b[0m",
      "\u001b[1;31mAttributeError\u001b[0m                            Traceback (most recent call last)",
      "\u001b[1;32m~\\AppData\\Local\\Temp/ipykernel_20740/1465645421.py\u001b[0m in \u001b[0;36m<module>\u001b[1;34m\u001b[0m\n\u001b[0;32m      5\u001b[0m data = {'Item1' : pd.DataFrame(np.random.randn(4, 3)), \n\u001b[0;32m      6\u001b[0m         'Item2' : pd.DataFrame(np.random.randn(4, 2))}\n\u001b[1;32m----> 7\u001b[1;33m \u001b[0mp\u001b[0m \u001b[1;33m=\u001b[0m \u001b[0mpd\u001b[0m\u001b[1;33m.\u001b[0m\u001b[0mPanel\u001b[0m\u001b[1;33m(\u001b[0m\u001b[0mdata\u001b[0m\u001b[1;33m)\u001b[0m\u001b[1;33m\u001b[0m\u001b[1;33m\u001b[0m\u001b[0m\n\u001b[0m\u001b[0;32m      8\u001b[0m \u001b[0mprint\u001b[0m\u001b[1;33m(\u001b[0m\u001b[0mp\u001b[0m\u001b[1;33m)\u001b[0m\u001b[1;33m\u001b[0m\u001b[1;33m\u001b[0m\u001b[0m\n",
      "\u001b[1;32m~\\Anaconda3\\lib\\site-packages\\pandas\\__init__.py\u001b[0m in \u001b[0;36m__getattr__\u001b[1;34m(name)\u001b[0m\n\u001b[0;32m    242\u001b[0m         \u001b[1;32mreturn\u001b[0m \u001b[0m_SparseArray\u001b[0m\u001b[1;33m\u001b[0m\u001b[1;33m\u001b[0m\u001b[0m\n\u001b[0;32m    243\u001b[0m \u001b[1;33m\u001b[0m\u001b[0m\n\u001b[1;32m--> 244\u001b[1;33m     \u001b[1;32mraise\u001b[0m \u001b[0mAttributeError\u001b[0m\u001b[1;33m(\u001b[0m\u001b[1;34mf\"module 'pandas' has no attribute '{name}'\"\u001b[0m\u001b[1;33m)\u001b[0m\u001b[1;33m\u001b[0m\u001b[1;33m\u001b[0m\u001b[0m\n\u001b[0m\u001b[0;32m    245\u001b[0m \u001b[1;33m\u001b[0m\u001b[0m\n\u001b[0;32m    246\u001b[0m \u001b[1;33m\u001b[0m\u001b[0m\n",
      "\u001b[1;31mAttributeError\u001b[0m: module 'pandas' has no attribute 'Panel'"
     ]
    }
   ],
   "source": [
    "#creating an empty panel\n",
    "import pandas as pd\n",
    "import numpy as np\n",
    "\n",
    "data = {'Item1' : pd.DataFrame(np.random.randn(4, 3)), \n",
    "        'Item2' : pd.DataFrame(np.random.randn(4, 2))}\n",
    "p = pd.Panel(data)\n",
    "print(p)"
   ]
  },
  {
   "cell_type": "markdown",
   "id": "0485b45f",
   "metadata": {},
   "source": [
    "Missing data is always a problem in real life scenarios. Areas like machine learning and data mining face severe issues in the accuracy of their model predictions because of poor quality of data caused by missing values. In these areas, missing value treatment is a major point of focus to make their models more accurate and valid.\n",
    "\n",
    "When and Why Is Data Missed?\n",
    "Let us consider an online survey for a product. Many a times, people do not share all the information related to them. Few people share their experience, but not how long they are using the product; few people share how long they are using the product, their experience but not their contact information. Thus, in some or the other way a part of data is always missing, and this is very common in real time.\n",
    "\n",
    "Let us now see how we can handle missing values (say NA or NaN) using Pandas."
   ]
  },
  {
   "cell_type": "code",
   "execution_count": 9,
   "id": "60053200",
   "metadata": {},
   "outputs": [
    {
     "name": "stdout",
     "output_type": "stream",
     "text": [
      "        one       two     three\n",
      "a  0.704312 -0.811102 -1.258020\n",
      "b       NaN       NaN       NaN\n",
      "c -0.461793 -0.120673  1.393411\n",
      "d       NaN       NaN       NaN\n",
      "e -0.666756  1.190295  1.666029\n",
      "f  1.591397 -0.798771  0.003074\n",
      "g       NaN       NaN       NaN\n",
      "h  0.089399 -0.345308 -0.530890\n"
     ]
    }
   ],
   "source": [
    "# import the pandas library\n",
    "import pandas as pd\n",
    "import numpy as np\n",
    "\n",
    "df = pd.DataFrame(np.random.randn(5, 3), index=['a', 'c', 'e', 'f',\n",
    "'h'],columns=['one', 'two', 'three'])\n",
    "\n",
    "df = df.reindex(['a', 'b', 'c', 'd', 'e', 'f', 'g', 'h'])\n",
    "\n",
    "print(df)"
   ]
  },
  {
   "cell_type": "markdown",
   "id": "02153756",
   "metadata": {},
   "source": [
    "Using reindexing, we have created a DataFrame with missing values. In the output, NaN means Not a Number."
   ]
  },
  {
   "cell_type": "code",
   "execution_count": 10,
   "id": "336a89aa",
   "metadata": {},
   "outputs": [
    {
     "name": "stdout",
     "output_type": "stream",
     "text": [
      "a    False\n",
      "b     True\n",
      "c    False\n",
      "d     True\n",
      "e    False\n",
      "f    False\n",
      "g     True\n",
      "h    False\n",
      "Name: one, dtype: bool\n"
     ]
    }
   ],
   "source": [
    "df = pd.DataFrame(np.random.randn(5, 3), index=['a', 'c', 'e', 'f',\n",
    "'h'],columns=['one', 'two', 'three'])\n",
    "\n",
    "df = df.reindex(['a', 'b', 'c', 'd', 'e', 'f', 'g', 'h'])\n",
    "\n",
    "print (df['one'].isnull())"
   ]
  },
  {
   "cell_type": "markdown",
   "id": "17100056",
   "metadata": {},
   "source": [
    "Cleaning / Filling Missing Data\n",
    "Pandas provides various methods for cleaning the missing values. The fillna function can “fill in” NA values with non-null data in a couple of ways, which we have illustrated in the following sections.\n",
    "\n",
    "Replace NaN with a Scalar Value\n",
    "The following program shows how you can replace \"NaN\" with \"0\"."
   ]
  },
  {
   "cell_type": "code",
   "execution_count": 11,
   "id": "db6b6eb1",
   "metadata": {},
   "outputs": [
    {
     "name": "stdout",
     "output_type": "stream",
     "text": [
      "        one       two     three\n",
      "a -1.345708  0.954375 -0.050737\n",
      "b       NaN       NaN       NaN\n",
      "c -1.854642  0.380442  1.395350\n",
      "NaN replaced with '0':\n",
      "        one       two     three\n",
      "a -1.345708  0.954375 -0.050737\n",
      "b  0.000000  0.000000  0.000000\n",
      "c -1.854642  0.380442  1.395350\n"
     ]
    }
   ],
   "source": [
    "import pandas as pd\n",
    "import numpy as np\n",
    "df = pd.DataFrame(np.random.randn(3, 3), index=['a', 'c', 'e'],columns=['one',\n",
    "'two', 'three'])\n",
    "df = df.reindex(['a', 'b', 'c'])\n",
    "print (df)\n",
    "print (\"NaN replaced with '0':\")\n",
    "print (df.fillna(0))"
   ]
  },
  {
   "cell_type": "markdown",
   "id": "7c4925ae",
   "metadata": {},
   "source": [
    "Fill NA Forward and Backward\n",
    "Using the concepts of filling discussed in the ReIndexing Chapter we will fill the missing values.\n",
    "\n",
    "1) pad/fill------------Fill methods Forward\n",
    "2) bfill/backfill----------Fill methods Backward"
   ]
  },
  {
   "cell_type": "code",
   "execution_count": 12,
   "id": "628ab4ce",
   "metadata": {},
   "outputs": [
    {
     "name": "stdout",
     "output_type": "stream",
     "text": [
      "        one       two     three\n",
      "a -0.662500 -1.167876  0.655540\n",
      "b -0.662500 -1.167876  0.655540\n",
      "c  0.460734 -0.261809  0.852612\n",
      "d  0.460734 -0.261809  0.852612\n",
      "e  1.564387 -0.527405 -1.028535\n",
      "f  0.611793 -0.734433  0.415038\n",
      "g  0.611793 -0.734433  0.415038\n",
      "h -0.826423 -0.372623 -1.514590\n"
     ]
    }
   ],
   "source": [
    "import pandas as pd\n",
    "import numpy as np\n",
    "\n",
    "df = pd.DataFrame(np.random.randn(5, 3), index=['a', 'c', 'e', 'f',\n",
    "'h'],columns=['one', 'two', 'three'])\n",
    "df = df.reindex(['a', 'b', 'c', 'd', 'e', 'f', 'g', 'h'])\n",
    "\n",
    "print (df.fillna(method='pad'))"
   ]
  },
  {
   "cell_type": "markdown",
   "id": "03b22f14",
   "metadata": {},
   "source": [
    "Drop Missing Values\n",
    "If you want to simply exclude the missing values, then use the dropna function along with the axis argument. By default, axis=0, i.e., along row, which means that if any value within a row is NA then the whole row is excluded."
   ]
  },
  {
   "cell_type": "code",
   "execution_count": 13,
   "id": "56168ca1",
   "metadata": {},
   "outputs": [
    {
     "name": "stdout",
     "output_type": "stream",
     "text": [
      "        one       two     three\n",
      "a  0.721601 -0.701159 -1.500079\n",
      "c  1.097592  1.134674  1.074002\n",
      "e -0.076248  0.763859  1.066656\n",
      "f -2.075858  1.375389 -0.581908\n",
      "h  0.774689  0.591836 -0.471999\n"
     ]
    }
   ],
   "source": [
    "import pandas as pd\n",
    "import numpy as np\n",
    "\n",
    "df = pd.DataFrame(np.random.randn(5, 3), index=['a', 'c', 'e', 'f',\n",
    "'h'],columns=['one', 'two', 'three'])\n",
    "\n",
    "df = df.reindex(['a', 'b', 'c', 'd', 'e', 'f', 'g', 'h'])\n",
    "print (df.dropna())"
   ]
  },
  {
   "cell_type": "markdown",
   "id": "842a2a86",
   "metadata": {},
   "source": [
    "Replace Missing (or) Generic Values\n",
    "Many times, we have to replace a generic value with some specific value. We can achieve this by applying the replace method.\n",
    "\n",
    "Replacing NA with a scalar value is equivalent behavior of the fillna() function."
   ]
  },
  {
   "cell_type": "code",
   "execution_count": 14,
   "id": "9a89a6a2",
   "metadata": {},
   "outputs": [
    {
     "name": "stdout",
     "output_type": "stream",
     "text": [
      "   one  two\n",
      "0   10   10\n",
      "1   20    0\n",
      "2   30   30\n",
      "3   40   40\n",
      "4   50   50\n",
      "5   60   60\n"
     ]
    }
   ],
   "source": [
    "import pandas as pd\n",
    "import numpy as np\n",
    "df = pd.DataFrame({'one':[10,20,30,40,50,2000],\n",
    "'two':[1000,0,30,40,50,60]})\n",
    "print (df.replace({1000:10,2000:60}))"
   ]
  },
  {
   "cell_type": "markdown",
   "id": "fc52242c",
   "metadata": {},
   "source": [
    "Reading a CSV File\n",
    "The read_csv function of the pandas library is used read the content of a CSV file into the python environment as a pandas DataFrame. The function can read the files from the OS by using proper path to the file"
   ]
  },
  {
   "cell_type": "code",
   "execution_count": 18,
   "id": "78b0b75e",
   "metadata": {},
   "outputs": [
    {
     "name": "stdout",
     "output_type": "stream",
     "text": [
      "   id    name  salary  start_date        dept\n",
      "0   1    Rick  623.30  2012-01-01          IT\n",
      "1   2     Dan  515.20  2013-09-23  Operations\n",
      "2   3   Tusar  611.00  2014-11-15          IT\n",
      "3   4    Ryan  729.00  2014-05-11          HR\n",
      "4   5    Gary  843.25  2015-03-27     Finance\n",
      "5   6   Rasmi  578.00  2013-05-21          IT\n",
      "6   7  Pranab  632.80  2013-07-30  Operations\n",
      "7   8    Guru  722.50  2014-06-17     Finance\n"
     ]
    }
   ],
   "source": [
    "import pandas as pd\n",
    "data = pd.read_csv('Data.csv')\n",
    "print (data)"
   ]
  },
  {
   "cell_type": "markdown",
   "id": "46d8a85a",
   "metadata": {},
   "source": [
    "Reading Specific Rows\n",
    "The read_csv function of the pandas library can also be used to read some specific rows for a given column. We slice the result from the read_csv function using the code shown below for first 5 rows for the column named salary."
   ]
  },
  {
   "cell_type": "code",
   "execution_count": 21,
   "id": "8f65bc85",
   "metadata": {},
   "outputs": [
    {
     "name": "stdout",
     "output_type": "stream",
     "text": [
      "0    623.30\n",
      "1    515.20\n",
      "2    611.00\n",
      "3    729.00\n",
      "4    843.25\n",
      "Name: salary, dtype: float64\n"
     ]
    }
   ],
   "source": [
    "# Slice the result for first 5 rows\n",
    "print (data[0:5]['salary']) # data[row][columns]"
   ]
  },
  {
   "cell_type": "markdown",
   "id": "9c0d0dea",
   "metadata": {},
   "source": [
    "Reading Specific Columns\n",
    "The read_csv function of the pandas library can also be used to read some specific columns. We use the multi-axes indexing method called .loc() for this purpose. We choose to display the salary and name column for all the rows."
   ]
  },
  {
   "cell_type": "code",
   "execution_count": 22,
   "id": "60f30f65",
   "metadata": {},
   "outputs": [
    {
     "name": "stdout",
     "output_type": "stream",
     "text": [
      "   salary    name\n",
      "0  623.30    Rick\n",
      "1  515.20     Dan\n",
      "2  611.00   Tusar\n",
      "3  729.00    Ryan\n",
      "4  843.25    Gary\n",
      "5  578.00   Rasmi\n",
      "6  632.80  Pranab\n",
      "7  722.50    Guru\n"
     ]
    }
   ],
   "source": [
    "# Use the multi-axes indexing funtion\n",
    "print (data.loc[:,['salary','name']]) # data[row][columns]"
   ]
  },
  {
   "cell_type": "markdown",
   "id": "2e7f7f0d",
   "metadata": {},
   "source": [
    "Reading Specific Columns and Rows\n",
    "The read_csv function of the pandas library can also be used to read some specific columns and specific rows. We use the multi-axes indexing method called .loc() for this purpose. We choose to display the salary and name column for some of the rows."
   ]
  },
  {
   "cell_type": "code",
   "execution_count": 24,
   "id": "a2442309",
   "metadata": {},
   "outputs": [
    {
     "name": "stdout",
     "output_type": "stream",
     "text": [
      "   salary   name\n",
      "1   515.2    Dan\n",
      "3   729.0   Ryan\n",
      "5   578.0  Rasmi\n"
     ]
    }
   ],
   "source": [
    "# Use the multi-axes indexing funtion\n",
    "print (data.loc[[1,3,5],['salary','name']])"
   ]
  },
  {
   "cell_type": "markdown",
   "id": "3dc5e646",
   "metadata": {},
   "source": [
    "Reading Specific Columns for a Range of Rows\n",
    "The read_csv function of the pandas library can also be used to read some specific columns and a range of rows. We use the multi-axes indexing method called .loc() for this purpose. We choose to display the salary and name column for some of the rows."
   ]
  },
  {
   "cell_type": "code",
   "execution_count": 26,
   "id": "53c58ca4",
   "metadata": {},
   "outputs": [
    {
     "name": "stdout",
     "output_type": "stream",
     "text": [
      "   salary    name\n",
      "2  611.00   Tusar\n",
      "3  729.00    Ryan\n",
      "4  843.25    Gary\n",
      "5  578.00   Rasmi\n",
      "6  632.80  Pranab\n"
     ]
    }
   ],
   "source": [
    "# Use the multi-axes indexing funtion\n",
    "print (data.loc[2:6,['salary','name']])"
   ]
  },
  {
   "cell_type": "markdown",
   "id": "dbdc3d88",
   "metadata": {},
   "source": [
    "Often in data science we need analysis which is based on temporal values. Python can handle the various formats of date and time gracefully. The datetime library provides necessary methods and functions to handle the following scenarios.\n",
    "\n",
    "Date Time Representation\n",
    "Date Time Arithmetic\n",
    "Date Time Comparison\n",
    "We will study them one by one.\n",
    "\n",
    "Date Time Representation\n",
    "A date and its various parts are represented by using different datetime functions. Also, there are format specifiers which play a role in displaying the alphabetical parts of a date like name of the month or week day. The following code shows today's date and various parts of the date."
   ]
  },
  {
   "cell_type": "code",
   "execution_count": 27,
   "id": "dfe41919",
   "metadata": {},
   "outputs": [
    {
     "name": "stdout",
     "output_type": "stream",
     "text": [
      "The Date Today is  : 2022-03-01 13:52:43.485959\n",
      "2022-03-01\n",
      "This Year   : 2022\n",
      "This Month    : 3\n",
      "Month Name: March\n",
      "This Week Day    : 1\n",
      "Week Day Name: Tuesday\n"
     ]
    }
   ],
   "source": [
    "import datetime\n",
    "\n",
    "print ('The Date Today is  :', datetime.datetime.today())\n",
    "\n",
    "date_today = datetime.date.today()\n",
    "print (date_today)\n",
    "print ('This Year   :', date_today.year)\n",
    "print ('This Month    :', date_today.month)\n",
    "print ('Month Name:',date_today.strftime('%B'))\n",
    "print ('This Week Day    :', date_today.day)\n",
    "print ('Week Day Name:',date_today.strftime('%A'))"
   ]
  },
  {
   "cell_type": "markdown",
   "id": "2222bfbe",
   "metadata": {},
   "source": [
    "Date Time Arithmetic\n",
    "For calculations involving dates we store the various dates into variables and apply the relevant mathematical operator to these variables."
   ]
  },
  {
   "cell_type": "code",
   "execution_count": 28,
   "id": "e6591b8e",
   "metadata": {},
   "outputs": [
    {
     "name": "stdout",
     "output_type": "stream",
     "text": [
      "day1: Mon Feb 12 00:00:00 2018\n",
      "day2: Fri Aug 18 00:00:00 2017\n",
      "Number of Days: 178 days, 0:00:00\n",
      "Before Four Days: 2022-02-25\n",
      "After Four Days: 2022-03-05\n"
     ]
    }
   ],
   "source": [
    "import datetime \n",
    " \n",
    "#Capture the First Date\n",
    "day1 = datetime.date(2018, 2, 12)\n",
    "print ('day1:', day1.ctime())\n",
    "\n",
    "# Capture the Second Date\n",
    "day2 = datetime.date(2017, 8, 18)\n",
    "print ('day2:', day2.ctime())\n",
    "\n",
    "# Find the difference between the dates\n",
    "print ('Number of Days:', day1-day2)\n",
    "\n",
    "\n",
    "date_today  = datetime.date.today() \n",
    "\n",
    "# Create a delta of Four Days \n",
    "no_of_days = datetime.timedelta(days=4) \n",
    "\n",
    "# Use Delta for Past Date\n",
    "before_four_days = date_today - no_of_days \n",
    "print ('Before Four Days:', before_four_days) \n",
    " \n",
    "# Use Delta for future Date\n",
    "after_four_days = date_today + no_of_days \n",
    "print ('After Four Days:', after_four_days) "
   ]
  },
  {
   "cell_type": "markdown",
   "id": "fdeebfb7",
   "metadata": {},
   "source": [
    "Date Time Comparison\n",
    "Date and time are compared using logical operators. But we must be careful in comparing the right parts of the dates with each other. In the below examples we take the future and past dates and compare them using the python if clause along with logical operators."
   ]
  },
  {
   "cell_type": "code",
   "execution_count": 29,
   "id": "a46a4263",
   "metadata": {},
   "outputs": [
    {
     "name": "stdout",
     "output_type": "stream",
     "text": [
      "Today is:  2022-03-01\n",
      "Before Four Days: 2022-02-25\n",
      "date1: 2018-04-04\n",
      "Past Date\n",
      "Future Date\n"
     ]
    }
   ],
   "source": [
    "import datetime\n",
    "\n",
    "date_today  = datetime.date.today() \n",
    "\n",
    "print ('Today is: ', date_today)\n",
    "# Create a delta of Four Days \n",
    "no_of_days = datetime.timedelta(days=4) \n",
    "\n",
    "# Use Delta for Past Date\n",
    "before_four_days = date_today - no_of_days \n",
    "print ('Before Four Days:', before_four_days) \n",
    "\n",
    "after_four_days =  date_today + no_of_days\n",
    "\n",
    "date1 = datetime.date(2018,4,4)\n",
    "\n",
    "print ('date1:',date1)\n",
    "\n",
    "if date1 == before_four_days :\n",
    "    print ('Same Dates')\n",
    "if date_today > date1:\n",
    "    print ('Past Date')\n",
    "if date1 < after_four_days:\n",
    "    print ('Future Date')"
   ]
  },
  {
   "cell_type": "markdown",
   "id": "97ca34db",
   "metadata": {},
   "source": [
    "Data wrangling involves processing the data in various formats like - merging, grouping, concatenating etc. for the purpose of analysing or getting them ready to be used with another set of data. Python has built-in features to apply these wrangling methods to various data sets to achieve the analytical goal. In this chapter we will look at few examples describing these methods.\n",
    "\n",
    "Merging Data\n",
    "The Pandas library in python provides a single function, merge, as the entry point for all standard database join operations between DataFrame objects −\n",
    "\n",
    "pd.merge(left, right, how='inner', on=None, left_on=None, right_on=None,\n",
    "left_index=False, right_index=False, sort=True)"
   ]
  },
  {
   "cell_type": "code",
   "execution_count": 30,
   "id": "cc9d81cc",
   "metadata": {},
   "outputs": [
    {
     "name": "stdout",
     "output_type": "stream",
     "text": [
      "   id    Name subject_id\n",
      "0   1    Alex       sub1\n",
      "1   2     Amy       sub2\n",
      "2   3   Allen       sub4\n",
      "3   4   Alice       sub6\n",
      "4   5  Ayoung       sub5\n",
      "   id   Name subject_id\n",
      "0   1  Billy       sub2\n",
      "1   2  Brian       sub4\n",
      "2   3   Bran       sub3\n",
      "3   4  Bryce       sub6\n",
      "4   5  Betty       sub5\n"
     ]
    }
   ],
   "source": [
    "# import the pandas library\n",
    "import pandas as pd\n",
    "left = pd.DataFrame({\n",
    "         'id':[1,2,3,4,5],\n",
    "         'Name': ['Alex', 'Amy', 'Allen', 'Alice', 'Ayoung'],\n",
    "         'subject_id':['sub1','sub2','sub4','sub6','sub5']})\n",
    "right = pd.DataFrame(\n",
    "         {'id':[1,2,3,4,5],\n",
    "         'Name': ['Billy', 'Brian', 'Bran', 'Bryce', 'Betty'],\n",
    "         'subject_id':['sub2','sub4','sub3','sub6','sub5']})\n",
    "print (left)\n",
    "print (right)"
   ]
  },
  {
   "cell_type": "markdown",
   "id": "fdf72401",
   "metadata": {},
   "source": [
    "Grouping Data\n",
    "Grouping data sets is a frequent need in data analysis where we need the result in terms of various groups present in the data set. Panadas has in-built methods which can roll the data into various groups.\n",
    "\n",
    "In the below example we group the data by year and then get the result for a specific year."
   ]
  },
  {
   "cell_type": "code",
   "execution_count": 34,
   "id": "56f9a40d",
   "metadata": {},
   "outputs": [
    {
     "name": "stdout",
     "output_type": "stream",
     "text": [
      "      Team  Rank  Year  Points\n",
      "0   Riders     1  2014     876\n",
      "1   Riders     2  2015     789\n",
      "2   Devils     2  2014     863\n",
      "3   Devils     3  2015     673\n",
      "4    Kings     3  2014     741\n",
      "5    kings     4  2015     812\n",
      "6    Kings     1  2016     756\n",
      "7    Kings     1  2017     788\n",
      "8   Riders     2  2016     694\n",
      "9   Royals     4  2014     701\n",
      "10  Royals     1  2015     804\n",
      "11  Riders     2  2017     690\n",
      "<pandas.core.groupby.generic.DataFrameGroupBy object at 0x0000024BA9F0CF70>\n",
      "     Team  Rank  Year  Points\n",
      "0  Riders     1  2014     876\n",
      "2  Devils     2  2014     863\n",
      "4   Kings     3  2014     741\n",
      "9  Royals     4  2014     701\n"
     ]
    }
   ],
   "source": [
    "ipl_data = {'Team': ['Riders', 'Riders', 'Devils', 'Devils', 'Kings',\n",
    "         'kings', 'Kings', 'Kings', 'Riders', 'Royals', 'Royals', 'Riders'],\n",
    "         'Rank': [1, 2, 2, 3, 3,4 ,1 ,1,2 , 4,1,2],\n",
    "         'Year': [2014,2015,2014,2015,2014,2015,2016,2017,2016,2014,2015,2017],\n",
    "         'Points':[876,789,863,673,741,812,756,788,694,701,804,690]}\n",
    "df = pd.DataFrame(ipl_data)\n",
    "\n",
    "print(df)\n",
    "\n",
    "grouped = df.groupby('Year')"
   ]
  },
  {
   "cell_type": "code",
   "execution_count": 35,
   "id": "96f1db80",
   "metadata": {},
   "outputs": [
    {
     "name": "stdout",
     "output_type": "stream",
     "text": [
      "<pandas.core.groupby.generic.DataFrameGroupBy object at 0x0000024BA9F0CF70>\n",
      "     Team  Rank  Year  Points\n",
      "0  Riders     1  2014     876\n",
      "2  Devils     2  2014     863\n",
      "4   Kings     3  2014     741\n",
      "9  Royals     4  2014     701\n"
     ]
    }
   ],
   "source": [
    "print(grouped)\n",
    "\n",
    "print (grouped.get_group(2014))"
   ]
  },
  {
   "cell_type": "markdown",
   "id": "a7ad81fd",
   "metadata": {},
   "source": [
    "Concatenating Data\n",
    "Pandas provides various facilities for easily combining together Series, DataFrame, and Panel objects. In the below example the concat function performs concatenation operations along an axis. Let us create different objects and do concatenation."
   ]
  },
  {
   "cell_type": "code",
   "execution_count": 36,
   "id": "3196f4c7",
   "metadata": {},
   "outputs": [
    {
     "name": "stdout",
     "output_type": "stream",
     "text": [
      "     Name subject_id  Marks_scored\n",
      "1    Alex       sub1            98\n",
      "2     Amy       sub2            90\n",
      "3   Allen       sub4            87\n",
      "4   Alice       sub6            69\n",
      "5  Ayoung       sub5            78\n",
      "    Name subject_id  Marks_scored\n",
      "1  Billy       sub2            89\n",
      "2  Brian       sub4            80\n",
      "3   Bran       sub3            79\n",
      "4  Bryce       sub6            97\n",
      "5  Betty       sub5            88\n",
      "     Name subject_id  Marks_scored\n",
      "1    Alex       sub1            98\n",
      "2     Amy       sub2            90\n",
      "3   Allen       sub4            87\n",
      "4   Alice       sub6            69\n",
      "5  Ayoung       sub5            78\n",
      "1   Billy       sub2            89\n",
      "2   Brian       sub4            80\n",
      "3    Bran       sub3            79\n",
      "4   Bryce       sub6            97\n",
      "5   Betty       sub5            88\n"
     ]
    }
   ],
   "source": [
    "import pandas as pd\n",
    "one = pd.DataFrame({\n",
    "         'Name': ['Alex', 'Amy', 'Allen', 'Alice', 'Ayoung'],\n",
    "         'subject_id':['sub1','sub2','sub4','sub6','sub5'],\n",
    "         'Marks_scored':[98,90,87,69,78]},\n",
    "         index=[1,2,3,4,5])\n",
    "two = pd.DataFrame({\n",
    "         'Name': ['Billy', 'Brian', 'Bran', 'Bryce', 'Betty'],\n",
    "         'subject_id':['sub2','sub4','sub3','sub6','sub5'],\n",
    "         'Marks_scored':[89,80,79,97,88]},\n",
    "         index=[1,2,3,4,5])\n",
    "print(one)\n",
    "print(two)\n",
    "print (pd.concat([one,two]))"
   ]
  },
  {
   "cell_type": "markdown",
   "id": "78ad0508",
   "metadata": {},
   "source": [
    "Python has several methods are available to perform aggregations on data. It is done using the pandas and numpy libraries. The data must be available or converted to a dataframe to apply the aggregation functions.\n",
    "\n",
    "Applying Aggregations on DataFrame\n",
    "Let us create a DataFrame and apply aggregations on it."
   ]
  },
  {
   "cell_type": "code",
   "execution_count": 37,
   "id": "0716d316",
   "metadata": {},
   "outputs": [
    {
     "name": "stdout",
     "output_type": "stream",
     "text": [
      "                   A         B         C         D\n",
      "2000-01-01 -1.641469 -1.370483 -0.430475 -0.551223\n",
      "2000-01-02  0.693899 -0.723331 -1.201884  0.133607\n",
      "2000-01-03 -0.677584  0.934345  0.011772 -0.734829\n",
      "2000-01-04  0.715701  0.190797 -0.735570 -0.836241\n",
      "2000-01-05 -0.247977  0.493955 -0.045115  0.424868\n",
      "2000-01-06 -1.547946 -1.354632  0.053678 -1.551782\n",
      "2000-01-07 -0.912717 -0.899144 -0.367027  0.339520\n",
      "2000-01-08  1.407119 -1.147336  0.609922 -0.466889\n",
      "2000-01-09  0.796357  0.393083 -0.273321  1.593065\n",
      "2000-01-10 -0.902304  1.315749 -0.814276 -0.843419\n",
      "Rolling [window=3,min_periods=1,center=False,axis=0,method=single]\n"
     ]
    }
   ],
   "source": [
    "import pandas as pd\n",
    "import numpy as np\n",
    "\n",
    "df = pd.DataFrame(np.random.randn(10, 4),\n",
    "      index = pd.date_range('1/1/2000', periods=10),\n",
    "      columns = ['A', 'B', 'C', 'D'])\n",
    "\n",
    "print (df)\n",
    "\n",
    "r = df.rolling(window=3,min_periods=1)\n",
    "print (r)"
   ]
  },
  {
   "cell_type": "markdown",
   "id": "66ec7d0c",
   "metadata": {},
   "source": [
    "We can aggregate by passing a function to the entire DataFrame, or select a column via the standard get item method.\n",
    "\n",
    "Apply Aggregation on a Whole Dataframe"
   ]
  },
  {
   "cell_type": "code",
   "execution_count": 38,
   "id": "e8c09ef0",
   "metadata": {},
   "outputs": [
    {
     "name": "stdout",
     "output_type": "stream",
     "text": [
      "                   A         B         C         D\n",
      "2000-01-01 -1.003738 -0.218101 -0.269294 -0.508193\n",
      "2000-01-02 -0.613153 -0.877390  0.099221 -0.031991\n",
      "2000-01-03 -2.046978  2.115559 -1.608808 -0.288282\n",
      "2000-01-04  0.784894 -0.977875  1.573626 -0.527726\n",
      "2000-01-05 -0.688807  0.922577 -1.814517  1.061743\n",
      "2000-01-06  0.819958  2.101959  0.998101 -0.330015\n",
      "2000-01-07  1.273814 -1.080527 -1.861740  1.113854\n",
      "2000-01-08 -0.635136  0.075954  0.603769 -0.941119\n",
      "2000-01-09  1.577440  0.460292 -1.598214  1.540743\n",
      "2000-01-10  0.222602 -0.287286 -0.598141  2.147811\n",
      "                   A         B         C         D\n",
      "2000-01-01 -1.003738 -0.218101 -0.269294 -0.508193\n",
      "2000-01-02 -1.616892 -1.095491 -0.170073 -0.540184\n",
      "2000-01-03 -3.663870  1.020068 -1.778881 -0.828466\n",
      "2000-01-04 -1.875237  0.260294  0.064038 -0.847999\n",
      "2000-01-05 -1.950891  2.060260 -1.849700  0.245735\n",
      "2000-01-06  0.916045  2.046660  0.757209  0.204002\n",
      "2000-01-07  1.404965  1.944009 -2.678157  1.845581\n",
      "2000-01-08  1.458636  1.097386 -0.259871 -0.157281\n",
      "2000-01-09  2.216117 -0.544281 -2.856185  1.713477\n",
      "2000-01-10  1.164906  0.248961 -1.592587  2.747435\n"
     ]
    }
   ],
   "source": [
    "import pandas as pd\n",
    "import numpy as np\n",
    "\n",
    "df = pd.DataFrame(np.random.randn(10, 4),\n",
    "      index = pd.date_range('1/1/2000', periods=10),\n",
    "      columns = ['A', 'B', 'C', 'D'])\n",
    "print (df)\n",
    "\n",
    "r = df.rolling(window=3,min_periods=1)\n",
    "print (r.aggregate(np.sum))"
   ]
  },
  {
   "cell_type": "markdown",
   "id": "3d3e30d7",
   "metadata": {},
   "source": [
    "Apply Aggregation on a Single Column of a Dataframe"
   ]
  },
  {
   "cell_type": "code",
   "execution_count": 39,
   "id": "1f9c4668",
   "metadata": {},
   "outputs": [
    {
     "name": "stdout",
     "output_type": "stream",
     "text": [
      "                   A         B         C         D\n",
      "2000-01-01  3.289501  0.410327  0.119992 -2.310492\n",
      "2000-01-02  0.766516  2.950132  2.904223  0.911058\n",
      "2000-01-03 -1.701099  0.156600 -0.704761 -0.483298\n",
      "2000-01-04  1.273023  0.225166  0.121958 -0.883174\n",
      "2000-01-05 -1.069854 -1.283410  0.489565 -0.689312\n",
      "2000-01-06 -0.939838  0.132307 -0.964748  1.088510\n",
      "2000-01-07  0.038692 -1.101890  0.616357  1.201759\n",
      "2000-01-08 -1.211458 -0.185675 -0.701106 -1.002536\n",
      "2000-01-09  0.918377 -1.103064  0.795188 -0.179225\n",
      "2000-01-10 -3.179322  1.336771 -0.648826  1.142138\n",
      "2000-01-01    3.289501\n",
      "2000-01-02    4.056018\n",
      "2000-01-03    2.354919\n",
      "2000-01-04    0.338440\n",
      "2000-01-05   -1.497930\n",
      "2000-01-06   -0.736669\n",
      "2000-01-07   -1.971000\n",
      "2000-01-08   -2.112604\n",
      "2000-01-09   -0.254390\n",
      "2000-01-10   -3.472404\n",
      "Freq: D, Name: A, dtype: float64\n"
     ]
    }
   ],
   "source": [
    "import pandas as pd\n",
    "import numpy as np\n",
    "\n",
    "df = pd.DataFrame(np.random.randn(10, 4),\n",
    "      index = pd.date_range('1/1/2000', periods=10),\n",
    "      columns = ['A', 'B', 'C', 'D'])\n",
    "print (df)\n",
    "r = df.rolling(window=3,min_periods=1)\n",
    "print (r['A'].aggregate(np.sum))"
   ]
  },
  {
   "cell_type": "markdown",
   "id": "4da2ab4c",
   "metadata": {},
   "source": [
    "Apply Aggregation on Multiple Columns of a DataFrame"
   ]
  },
  {
   "cell_type": "code",
   "execution_count": 40,
   "id": "b2f1e2a3",
   "metadata": {},
   "outputs": [
    {
     "name": "stdout",
     "output_type": "stream",
     "text": [
      "                   A         B         C         D\n",
      "2000-01-01  0.395656  1.312556 -1.272360 -0.277185\n",
      "2000-01-02 -0.213960 -1.437747  0.094284  0.323187\n",
      "2000-01-03  0.698246  0.575919 -0.407574 -0.303533\n",
      "2000-01-04  1.423772  1.356782  1.078887 -0.410703\n",
      "2000-01-05  0.895157  0.904542  0.338379  1.272101\n",
      "2000-01-06  0.296177 -0.140848  0.004401 -0.218503\n",
      "2000-01-07  0.340938  0.574111  2.504055 -1.906655\n",
      "2000-01-08  0.710543 -0.389757  1.291142 -0.574935\n",
      "2000-01-09 -0.904611 -0.079223 -0.939358 -0.064073\n",
      "2000-01-10  0.109122 -0.282840 -0.455631 -1.321586\n",
      "                   A         B\n",
      "2000-01-01  0.395656  1.312556\n",
      "2000-01-02  0.181696 -0.125192\n",
      "2000-01-03  0.879941  0.450728\n",
      "2000-01-04  1.908057  0.494954\n",
      "2000-01-05  3.017174  2.837243\n",
      "2000-01-06  2.615105  2.120476\n",
      "2000-01-07  1.532271  1.337806\n",
      "2000-01-08  1.347658  0.043507\n",
      "2000-01-09  0.146870  0.105132\n",
      "2000-01-10 -0.084946 -0.751820\n"
     ]
    }
   ],
   "source": [
    "import pandas as pd\n",
    "import numpy as np\n",
    "\n",
    "df = pd.DataFrame(np.random.randn(10, 4),\n",
    "      index = pd.date_range('1/1/2000', periods=10),\n",
    "      columns = ['A', 'B', 'C', 'D'])\n",
    "print (df)\n",
    "r = df.rolling(window=3,min_periods=1)\n",
    "print (r[['A','B']].aggregate(np.sum))"
   ]
  },
  {
   "cell_type": "markdown",
   "id": "670db808",
   "metadata": {},
   "source": [
    "Python has excellent libraries for data visualization. A combination of Pandas, numpy and matplotlib can help in creating in nearly all types of visualizations charts. In this chapter we will get started with looking at some simple chart and the various properties of the chart.\n",
    "\n",
    "Creating a Chart\n",
    "We use numpy library to create the required numbers to be mapped for creating the chart and the pyplot method in matplotlib to draws the actual chart."
   ]
  },
  {
   "cell_type": "code",
   "execution_count": 41,
   "id": "5002c9c3",
   "metadata": {},
   "outputs": [
    {
     "data": {
      "text/plain": [
       "[<matplotlib.lines.Line2D at 0x24baac7ac10>]"
      ]
     },
     "execution_count": 41,
     "metadata": {},
     "output_type": "execute_result"
    },
    {
     "data": {
      "image/png": "[encoded data removed]",
      "text/plain": [
       "<Figure size 432x288 with 1 Axes>"
      ]
     },
     "metadata": {
      "needs_background": "light"
     },
     "output_type": "display_data"
    }
   ],
   "source": [
    "import numpy as np \n",
    "import matplotlib.pyplot as plt \n",
    "\n",
    "x = np.arange(0,10) \n",
    "y = x ^ 2 \n",
    "#Simple Plot\n",
    "plt.plot(x,y)"
   ]
  },
  {
   "cell_type": "markdown",
   "id": "a3d9dc15",
   "metadata": {},
   "source": [
    "Labling the Axes\n",
    "We can apply labels to the axes as well as a title for the chart using appropriate methods from the library as shown below."
   ]
  },
  {
   "cell_type": "code",
   "execution_count": 42,
   "id": "e1b982c1",
   "metadata": {},
   "outputs": [
    {
     "data": {
      "text/plain": [
       "[<matplotlib.lines.Line2D at 0x24bab423550>]"
      ]
     },
     "execution_count": 42,
     "metadata": {},
     "output_type": "execute_result"
    },
    {
     "data": {
      "image/png": "[encoded data removed]",
      "text/plain": [
       "<Figure size 432x288 with 1 Axes>"
      ]
     },
     "metadata": {
      "needs_background": "light"
     },
     "output_type": "display_data"
    }
   ],
   "source": [
    "import numpy as np \n",
    "import matplotlib.pyplot as plt \n",
    "\n",
    "x = np.arange(0,10) \n",
    "y = x ^ 2 \n",
    "#Labeling the Axes and Title\n",
    "plt.title(\"Graph Drawing\") \n",
    "plt.xlabel(\"Time\") \n",
    "plt.ylabel(\"Distance\") \n",
    "#Simple Plot\n",
    "plt.plot(x,y)"
   ]
  },
  {
   "cell_type": "markdown",
   "id": "5037628c",
   "metadata": {},
   "source": [
    "Formatting Line type and Colour\n",
    "The style as well as colour for the line in the chart can be specified using appropriate methods from the library as shown below."
   ]
  },
  {
   "cell_type": "code",
   "execution_count": 43,
   "id": "3c88e61f",
   "metadata": {},
   "outputs": [
    {
     "data": {
      "text/plain": [
       "[<matplotlib.lines.Line2D at 0x24bab4993d0>]"
      ]
     },
     "execution_count": 43,
     "metadata": {},
     "output_type": "execute_result"
    },
    {
     "data": {
      "image/png": "[encoded data removed]",
      "text/plain": [
       "<Figure size 432x288 with 1 Axes>"
      ]
     },
     "metadata": {
      "needs_background": "light"
     },
     "output_type": "display_data"
    }
   ],
   "source": [
    "import numpy as np \n",
    "import matplotlib.pyplot as plt \n",
    "\n",
    "x = np.arange(0,10) \n",
    "y = x ^ 2 \n",
    "#Labeling the Axes and Title\n",
    "plt.title(\"Graph Drawing\") \n",
    "plt.xlabel(\"Time\") \n",
    "plt.ylabel(\"Distance\") \n",
    "\n",
    "# Formatting the line colors\n",
    "plt.plot(x,y,'r')\n",
    "\n",
    "# Formatting the line type  \n",
    "plt.plot(x,y,'>')"
   ]
  },
  {
   "cell_type": "markdown",
   "id": "5961d77c",
   "metadata": {},
   "source": [
    "The charts created in python can have further styling by using some appropriate methods from the libraries used for charting. In this lesson we will see the implementation of Annotation, legends and chart background. We will continue to use the code from the last chapter and modify it to add these styles to the chart.\n",
    "\n",
    "Adding Annotations\n",
    "Many times, we need to annotate the chart by highlighting the specific locations of the chart. In the below example we indicate the sharp change in values in the chart by adding annotations at those points."
   ]
  },
  {
   "cell_type": "code",
   "execution_count": 44,
   "id": "b49e01d1",
   "metadata": {},
   "outputs": [
    {
     "name": "stderr",
     "output_type": "stream",
     "text": [
      "C:\\Users\\11037833\\AppData\\Local\\Temp/ipykernel_20740/3526637516.py:15: MatplotlibDeprecationWarning: The 's' parameter of annotate() has been renamed 'text' since Matplotlib 3.3; support for the old name will be dropped two minor releases later.\n",
      "  plt.annotate(xy=[2,1], s='Second Entry')\n",
      "C:\\Users\\11037833\\AppData\\Local\\Temp/ipykernel_20740/3526637516.py:16: MatplotlibDeprecationWarning: The 's' parameter of annotate() has been renamed 'text' since Matplotlib 3.3; support for the old name will be dropped two minor releases later.\n",
      "  plt.annotate(xy=[4,6], s='Third Entry')\n"
     ]
    },
    {
     "data": {
      "text/plain": [
       "Text(4, 6, 'Third Entry')"
      ]
     },
     "execution_count": 44,
     "metadata": {},
     "output_type": "execute_result"
    },
    {
     "data": {
      "image/png": "[encoded data removed]",
      "text/plain": [
       "<Figure size 432x288 with 1 Axes>"
      ]
     },
     "metadata": {
      "needs_background": "light"
     },
     "output_type": "display_data"
    }
   ],
   "source": [
    "import numpy as np \n",
    "from matplotlib import pyplot as plt \n",
    "\n",
    "x = np.arange(0,10) \n",
    "y = x ^ 2 \n",
    "z = x ^ 3\n",
    "t = x ^ 4 \n",
    "# Labeling the Axes and Title\n",
    "plt.title(\"Graph Drawing\") \n",
    "plt.xlabel(\"Time\") \n",
    "plt.ylabel(\"Distance\") \n",
    "plt.plot(x,y)\n",
    "\n",
    "#Annotate\n",
    "plt.annotate(xy=[2,1], s='Second Entry') \n",
    "plt.annotate(xy=[4,6], s='Third Entry') "
   ]
  },
  {
   "cell_type": "markdown",
   "id": "8da17c3a",
   "metadata": {},
   "source": [
    "Adding Legends\n",
    "We sometimes need a chart with multiple lines being plotted. Use of legend represents the meaning associated with each line. In the below chart we have 3 lines with appropriate legends."
   ]
  },
  {
   "cell_type": "code",
   "execution_count": 45,
   "id": "62a33295",
   "metadata": {},
   "outputs": [
    {
     "name": "stderr",
     "output_type": "stream",
     "text": [
      "C:\\Users\\11037833\\AppData\\Local\\Temp/ipykernel_20740/1329142496.py:15: MatplotlibDeprecationWarning: The 's' parameter of annotate() has been renamed 'text' since Matplotlib 3.3; support for the old name will be dropped two minor releases later.\n",
      "  plt.annotate(xy=[2,1], s='Second Entry')\n",
      "C:\\Users\\11037833\\AppData\\Local\\Temp/ipykernel_20740/1329142496.py:16: MatplotlibDeprecationWarning: The 's' parameter of annotate() has been renamed 'text' since Matplotlib 3.3; support for the old name will be dropped two minor releases later.\n",
      "  plt.annotate(xy=[4,6], s='Third Entry')\n"
     ]
    },
    {
     "data": {
      "text/plain": [
       "<matplotlib.legend.Legend at 0x24bab55ddc0>"
      ]
     },
     "execution_count": 45,
     "metadata": {},
     "output_type": "execute_result"
    },
    {
     "data": {
      "image/png": "[encoded data removed]",
      "text/plain": [
       "<Figure size 432x288 with 1 Axes>"
      ]
     },
     "metadata": {
      "needs_background": "light"
     },
     "output_type": "display_data"
    }
   ],
   "source": [
    "import numpy as np \n",
    "from matplotlib import pyplot as plt \n",
    "\n",
    "x = np.arange(0,10) \n",
    "y = x ^ 2 \n",
    "z = x ^ 3\n",
    "t = x ^ 4 \n",
    "# Labeling the Axes and Title\n",
    "plt.title(\"Graph Drawing\") \n",
    "plt.xlabel(\"Time\") \n",
    "plt.ylabel(\"Distance\") \n",
    "plt.plot(x,y)\n",
    "\n",
    "#Annotate\n",
    "plt.annotate(xy=[2,1], s='Second Entry') \n",
    "plt.annotate(xy=[4,6], s='Third Entry') \n",
    "# Adding Legends\n",
    "plt.plot(x,z)\n",
    "plt.plot(x,t)\n",
    "plt.legend(['Race1', 'Race2','Race3'], loc=4) "
   ]
  },
  {
   "cell_type": "markdown",
   "id": "af86cf82",
   "metadata": {},
   "source": [
    "Chart presentation Style\n",
    "We can modify the presentation style of the chart by using different methods from the style package."
   ]
  },
  {
   "cell_type": "code",
   "execution_count": 46,
   "id": "96019d42",
   "metadata": {},
   "outputs": [
    {
     "name": "stderr",
     "output_type": "stream",
     "text": [
      "C:\\Users\\11037833\\AppData\\Local\\Temp/ipykernel_20740/2614882605.py:15: MatplotlibDeprecationWarning: The 's' parameter of annotate() has been renamed 'text' since Matplotlib 3.3; support for the old name will be dropped two minor releases later.\n",
      "  plt.annotate(xy=[2,1], s='Second Entry')\n",
      "C:\\Users\\11037833\\AppData\\Local\\Temp/ipykernel_20740/2614882605.py:16: MatplotlibDeprecationWarning: The 's' parameter of annotate() has been renamed 'text' since Matplotlib 3.3; support for the old name will be dropped two minor releases later.\n",
      "  plt.annotate(xy=[4,6], s='Third Entry')\n"
     ]
    },
    {
     "data": {
      "text/plain": [
       "[<matplotlib.lines.Line2D at 0x24bac5d6820>]"
      ]
     },
     "execution_count": 46,
     "metadata": {},
     "output_type": "execute_result"
    },
    {
     "data": {
      "image/png": "[encoded data removed]",
      "text/plain": [
       "<Figure size 432x288 with 1 Axes>"
      ]
     },
     "metadata": {
      "needs_background": "light"
     },
     "output_type": "display_data"
    }
   ],
   "source": [
    "import numpy as np \n",
    "from matplotlib import pyplot as plt \n",
    "\n",
    "x = np.arange(0,10) \n",
    "y = x ^ 2 \n",
    "z = x ^ 3\n",
    "t = x ^ 4 \n",
    "# Labeling the Axes and Title\n",
    "plt.title(\"Graph Drawing\") \n",
    "plt.xlabel(\"Time\") \n",
    "plt.ylabel(\"Distance\") \n",
    "plt.plot(x,y)\n",
    "\n",
    "#Annotate\n",
    "plt.annotate(xy=[2,1], s='Second Entry') \n",
    "plt.annotate(xy=[4,6], s='Third Entry') \n",
    "# Adding Legends\n",
    "plt.plot(x,z)\n",
    "plt.plot(x,t)\n",
    "plt.legend(['Race1', 'Race2','Race3'], loc=4) \n",
    "\n",
    "#Style the background\n",
    "plt.style.use('fast')\n",
    "plt.plot(x,z)"
   ]
  },
  {
   "cell_type": "markdown",
   "id": "2a6dab0e",
   "metadata": {},
   "source": [
    "Boxplots are a measure of how well distributed the data in a data set is. It divides the data set into three quartiles. This graph represents the minimum, maximum, median, first quartile and third quartile in the data set. It is also useful in comparing the distribution of data across data sets by drawing boxplots for each of them.\n",
    "\n",
    "Drawing a Box Plot\n",
    "Boxplot can be drawn calling Series.box.plot() and DataFrame.box.plot(), or DataFrame.boxplot() to visualize the distribution of values within each column.\n",
    "\n",
    "For instance, here is a boxplot representing five trials of 10 observations of a uniform random variable on [0,1)."
   ]
  },
  {
   "cell_type": "code",
   "execution_count": 47,
   "id": "48b92b73",
   "metadata": {},
   "outputs": [
    {
     "data": {
      "text/plain": [
       "<AxesSubplot:>"
      ]
     },
     "execution_count": 47,
     "metadata": {},
     "output_type": "execute_result"
    },
    {
     "data": {
      "image/png": "[encoded data removed]",
      "text/plain": [
       "<Figure size 432x288 with 1 Axes>"
      ]
     },
     "metadata": {
      "needs_background": "light"
     },
     "output_type": "display_data"
    }
   ],
   "source": [
    "import pandas as pd\n",
    "import numpy as np\n",
    "df = pd.DataFrame(np.random.rand(10, 5), columns=['A', 'B', 'C', 'D', 'E'])\n",
    "df.plot.box(grid='True')"
   ]
  },
  {
   "cell_type": "code",
   "execution_count": null,
   "id": "61786433",
   "metadata": {},
   "outputs": [],
   "source": []
  }
 ],
 "metadata": {
  "kernelspec": {
   "display_name": "Python 3 (ipykernel)",
   "language": "python",
   "name": "python3"
  },
  "language_info": {
   "codemirror_mode": {
    "name": "ipython",
    "version": 3
   },
   "file_extension": ".py",
   "mimetype": "text/x-python",
   "name": "python",
   "nbconvert_exporter": "python",
   "pygments_lexer": "ipython3",
   "version": "3.9.7"
  }
 },
 "nbformat": 4,
 "nbformat_minor": 5
}
