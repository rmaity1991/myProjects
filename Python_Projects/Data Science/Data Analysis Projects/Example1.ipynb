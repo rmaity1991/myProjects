{
 "cells": [
  {
   "cell_type": "code",
   "execution_count": 1,
   "metadata": {},
   "outputs": [],
   "source": [
    "import pandas as pd"
   ]
  },
  {
   "cell_type": "code",
   "execution_count": 26,
   "metadata": {},
   "outputs": [
    {
     "name": "stdout",
     "output_type": "stream",
     "text": [
      "       carat        cut color clarity  depth  table  price     x     y     z\n",
      "0       0.23      Ideal     E     SI2   61.5   55.0    326  3.95  3.98  2.43\n",
      "1       0.21    Premium     E     SI1   59.8   61.0    326  3.89  3.84  2.31\n",
      "2       0.23       Good     E     VS1   56.9   65.0    327  4.05  4.07  2.31\n",
      "3       0.29    Premium     I     VS2   62.4   58.0    334  4.20  4.23  2.63\n",
      "4       0.31       Good     J     SI2   63.3   58.0    335  4.34  4.35  2.75\n",
      "...      ...        ...   ...     ...    ...    ...    ...   ...   ...   ...\n",
      "53935   0.72      Ideal     D     SI1   60.8   57.0   2757  5.75  5.76  3.50\n",
      "53936   0.72       Good     D     SI1   63.1   55.0   2757  5.69  5.75  3.61\n",
      "53937   0.70  Very Good     D     SI1   62.8   60.0   2757  5.66  5.68  3.56\n",
      "53938   0.86    Premium     H     SI2   61.0   58.0   2757  6.15  6.12  3.74\n",
      "53939   0.75      Ideal     D     SI2   62.2   55.0   2757  5.83  5.87  3.64\n",
      "\n",
      "[53940 rows x 10 columns]\n"
     ]
    }
   ],
   "source": [
    "masterData1=pd.read_csv(\"https://raw.githubusercontent.com/mwaskom/seaborn-data/master/diamonds.csv\")\n",
    "print(masterData1)"
   ]
  },
  {
   "cell_type": "code",
   "execution_count": 6,
   "metadata": {},
   "outputs": [],
   "source": [
    "workingData=masterData1.copy()"
   ]
  },
  {
   "cell_type": "code",
   "execution_count": 25,
   "metadata": {},
   "outputs": [
    {
     "name": "stdout",
     "output_type": "stream",
     "text": [
      "['Ideal' 'Premium' 'Good' 'Very Good' 'Fair']\n",
      "['SI2' 'SI1' 'VS1' 'VS2' 'VVS2' 'VVS1' 'I1' 'IF']\n"
     ]
    }
   ],
   "source": [
    "cutlist=workingData['cut'].unique()\n",
    "print(cutlist)\n",
    "claritylist=workingData['clarity'].unique()\n",
    "print(claritylist)"
   ]
  },
  {
   "cell_type": "code",
   "execution_count": 12,
   "metadata": {},
   "outputs": [
    {
     "name": "stdout",
     "output_type": "stream",
     "text": [
      "       carat    cut color clarity  depth  table  price     x     y     z\n",
      "0       0.23  Ideal     E     SI2   61.5   55.0    326  3.95  3.98  2.43\n",
      "11      0.23  Ideal     J     VS1   62.8   56.0    340  3.93  3.90  2.46\n",
      "13      0.31  Ideal     J     SI2   62.2   54.0    344  4.35  4.37  2.71\n",
      "16      0.30  Ideal     I     SI2   62.0   54.0    348  4.31  4.34  2.68\n",
      "39      0.33  Ideal     I     SI2   61.8   55.0    403  4.49  4.51  2.78\n",
      "...      ...    ...   ...     ...    ...    ...    ...   ...   ...   ...\n",
      "53925   0.79  Ideal     I     SI1   61.6   56.0   2756  5.95  5.97  3.67\n",
      "53926   0.71  Ideal     E     SI1   61.9   56.0   2756  5.71  5.73  3.54\n",
      "53929   0.71  Ideal     G     VS1   61.4   56.0   2756  5.76  5.73  3.53\n",
      "53935   0.72  Ideal     D     SI1   60.8   57.0   2757  5.75  5.76  3.50\n",
      "53939   0.75  Ideal     D     SI2   62.2   55.0   2757  5.83  5.87  3.64\n",
      "\n",
      "[21551 rows x 10 columns]\n"
     ]
    }
   ],
   "source": [
    "idealdiamond=masterData1[masterData1['cut']=='Ideal']\n",
    "print(idealdiamond)"
   ]
  },
  {
   "cell_type": "code",
   "execution_count": 27,
   "metadata": {},
   "outputs": [
    {
     "name": "stdout",
     "output_type": "stream",
     "text": [
      "       carat      cut color clarity  depth  table  price     x     y     z\n",
      "1       0.21  Premium     E     SI1   59.8   61.0    326  3.89  3.84  2.31\n",
      "3       0.29  Premium     I     VS2   62.4   58.0    334  4.20  4.23  2.63\n",
      "12      0.22  Premium     F     SI1   60.4   61.0    342  3.88  3.84  2.33\n",
      "14      0.20  Premium     E     SI2   60.2   62.0    345  3.79  3.75  2.27\n",
      "15      0.32  Premium     E      I1   60.9   58.0    345  4.38  4.42  2.68\n",
      "...      ...      ...   ...     ...    ...    ...    ...   ...   ...   ...\n",
      "53928   0.79  Premium     E     SI2   61.4   58.0   2756  6.03  5.96  3.68\n",
      "53930   0.71  Premium     E     SI1   60.5   55.0   2756  5.79  5.74  3.49\n",
      "53931   0.71  Premium     F     SI1   59.8   62.0   2756  5.74  5.73  3.43\n",
      "53934   0.72  Premium     D     SI1   62.7   59.0   2757  5.69  5.73  3.58\n",
      "53938   0.86  Premium     H     SI2   61.0   58.0   2757  6.15  6.12  3.74\n",
      "\n",
      "[13791 rows x 10 columns]\n"
     ]
    }
   ],
   "source": [
    "premiumdiamond=masterData1[masterData1['cut']=='Premium']\n",
    "print(premiumdiamond)"
   ]
  },
  {
   "cell_type": "code",
   "execution_count": null,
   "metadata": {},
   "outputs": [],
   "source": []
  }
 ],
 "metadata": {
  "interpreter": {
   "hash": "b140b1f891d7f5d80e32e2da320cf6ca9380f361466450903247e3a62134aeb6"
  },
  "kernelspec": {
   "display_name": "Python 3.7.8 32-bit",
   "language": "python",
   "name": "python3"
  },
  "language_info": {
   "codemirror_mode": {
    "name": "ipython",
    "version": 3
   },
   "file_extension": ".py",
   "mimetype": "text/x-python",
   "name": "python",
   "nbconvert_exporter": "python",
   "pygments_lexer": "ipython3",
   "version": "3.7.8"
  },
  "orig_nbformat": 4
 },
 "nbformat": 4,
 "nbformat_minor": 2
}
